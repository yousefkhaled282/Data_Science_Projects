{
 "cells": [
  {
   "cell_type": "markdown",
   "metadata": {},
   "source": [
    "<a id=\"top\"></a>\n",
    "<div class=\"list-group\" id=\"list-tab\" role=\"tablist\">\n",
    "<h3 class=\"list-group-item list-group-item-action active\" data-toggle=\"list\" role=\"tab\" aria-controls=\"home\">Table of Content</h3>\n",
    "\n",
    "* [1. Libraries](#1)\n",
    "* [2.Idea about the data](#2)\n",
    "* [3.Exploratory data analysis](#3)\n",
    "    - [3.1 How many resturant accept online orders ?](#3.1)\n",
    "    - [3.2 How many resturant have Book Table?](#3.2)\n",
    "    - [3.3 Which type of resturants are from thr top ten in Bangolre ?](#3.3)\n",
    "    - [3.4 What are the main cuisine types available in Bengaluru ?](#3.4)\n",
    "    - [3.5 What is the range of apporoxiamte cost for two person for each resturant ?](#3.5)\n",
    "    - [3.6 What are the most popular restaurants?](#3.6)\n",
    "    - [3.7 What is the effect of Book table on rate and cost ?](#3.7)\n",
    "    - [3.8 Where are the best resturants ?](#3.8)\n",
    "    - [3.9 How are rate and cost affect on choosing best city to eat in it ?](#3.9)\n",
    "    - [3.10 Heatmap of restaurant count on each location](#3.10)\n",
    "* [4. Data Preperation](#4)\n",
    "    - [4.1 Clean Data](#4.1)\n",
    "    - [4.2 Feature Selection and Extarction](#4.2)\n",
    "        - [4.2.1 Label Enconding](#4.3)\n",
    "* [5. Machine Learning model](#5)\n",
    "    - [5.1 Select best machine learning for binary classification](#5.1)\n",
    "    - [5.2 Parameter tuning](#5.2)\n",
    "    - [5.3 Evalution and mertcis](#5.3)\n",
    "* [6.Summary](#5)\n",
    "    "
   ]
  },
  {
   "cell_type": "markdown",
   "metadata": {},
   "source": [
    "<a id=\"1\"></a>\n",
    "<font color=\"darkslateblue\" size=+2.5><b>1. Libraries</b></font>"
   ]
  },
  {
   "cell_type": "code",
   "execution_count": 2,
   "metadata": {},
   "outputs": [],
   "source": [
    "import pandas as pd\n",
    "import numpy as np\n",
    "import matplotlib.pyplot as plt\n",
    "import seaborn as sns\n",
    "from geopy.geocoders import Nominatim\n",
    "import folium\n",
    "from folium.plugins import HeatMap\n",
    "from collections import Counter"
   ]
  },
  {
   "cell_type": "markdown",
   "metadata": {},
   "source": [
    "\n",
    "<a id=\"2\"></a>\n",
    "<font color=\"darkslateblue\" size=+2.5><b>2. Idea about the data</b></font>"
   ]
  },
  {
   "cell_type": "code",
   "execution_count": 3,
   "metadata": {},
   "outputs": [
    {
     "data": {
      "text/html": [
       "<div>\n",
       "<style scoped>\n",
       "    .dataframe tbody tr th:only-of-type {\n",
       "        vertical-align: middle;\n",
       "    }\n",
       "\n",
       "    .dataframe tbody tr th {\n",
       "        vertical-align: top;\n",
       "    }\n",
       "\n",
       "    .dataframe thead th {\n",
       "        text-align: right;\n",
       "    }\n",
       "</style>\n",
       "<table border=\"1\" class=\"dataframe\">\n",
       "  <thead>\n",
       "    <tr style=\"text-align: right;\">\n",
       "      <th></th>\n",
       "      <th>url</th>\n",
       "      <th>address</th>\n",
       "      <th>name</th>\n",
       "      <th>online_order</th>\n",
       "      <th>book_table</th>\n",
       "      <th>rate</th>\n",
       "      <th>votes</th>\n",
       "      <th>phone</th>\n",
       "      <th>location</th>\n",
       "      <th>rest_type</th>\n",
       "      <th>dish_liked</th>\n",
       "      <th>cuisines</th>\n",
       "      <th>approx_cost(for two people)</th>\n",
       "      <th>reviews_list</th>\n",
       "      <th>menu_item</th>\n",
       "      <th>listed_in(type)</th>\n",
       "      <th>listed_in(city)</th>\n",
       "    </tr>\n",
       "  </thead>\n",
       "  <tbody>\n",
       "    <tr>\n",
       "      <td>0</td>\n",
       "      <td>https://www.zomato.com/bangalore/jalsa-banasha...</td>\n",
       "      <td>942, 21st Main Road, 2nd Stage, Banashankari, ...</td>\n",
       "      <td>Jalsa</td>\n",
       "      <td>Yes</td>\n",
       "      <td>Yes</td>\n",
       "      <td>4.1/5</td>\n",
       "      <td>775</td>\n",
       "      <td>080 42297555\\r\\n+91 9743772233</td>\n",
       "      <td>Banashankari</td>\n",
       "      <td>Casual Dining</td>\n",
       "      <td>Pasta, Lunch Buffet, Masala Papad, Paneer Laja...</td>\n",
       "      <td>North Indian, Mughlai, Chinese</td>\n",
       "      <td>800</td>\n",
       "      <td>[('Rated 4.0', 'RATED\\n  A beautiful place to ...</td>\n",
       "      <td>[]</td>\n",
       "      <td>Buffet</td>\n",
       "      <td>Banashankari</td>\n",
       "    </tr>\n",
       "    <tr>\n",
       "      <td>1</td>\n",
       "      <td>https://www.zomato.com/bangalore/spice-elephan...</td>\n",
       "      <td>2nd Floor, 80 Feet Road, Near Big Bazaar, 6th ...</td>\n",
       "      <td>Spice Elephant</td>\n",
       "      <td>Yes</td>\n",
       "      <td>No</td>\n",
       "      <td>4.1/5</td>\n",
       "      <td>787</td>\n",
       "      <td>080 41714161</td>\n",
       "      <td>Banashankari</td>\n",
       "      <td>Casual Dining</td>\n",
       "      <td>Momos, Lunch Buffet, Chocolate Nirvana, Thai G...</td>\n",
       "      <td>Chinese, North Indian, Thai</td>\n",
       "      <td>800</td>\n",
       "      <td>[('Rated 4.0', 'RATED\\n  Had been here for din...</td>\n",
       "      <td>[]</td>\n",
       "      <td>Buffet</td>\n",
       "      <td>Banashankari</td>\n",
       "    </tr>\n",
       "    <tr>\n",
       "      <td>2</td>\n",
       "      <td>https://www.zomato.com/SanchurroBangalore?cont...</td>\n",
       "      <td>1112, Next to KIMS Medical College, 17th Cross...</td>\n",
       "      <td>San Churro Cafe</td>\n",
       "      <td>Yes</td>\n",
       "      <td>No</td>\n",
       "      <td>3.8/5</td>\n",
       "      <td>918</td>\n",
       "      <td>+91 9663487993</td>\n",
       "      <td>Banashankari</td>\n",
       "      <td>Cafe, Casual Dining</td>\n",
       "      <td>Churros, Cannelloni, Minestrone Soup, Hot Choc...</td>\n",
       "      <td>Cafe, Mexican, Italian</td>\n",
       "      <td>800</td>\n",
       "      <td>[('Rated 3.0', \"RATED\\n  Ambience is not that ...</td>\n",
       "      <td>[]</td>\n",
       "      <td>Buffet</td>\n",
       "      <td>Banashankari</td>\n",
       "    </tr>\n",
       "    <tr>\n",
       "      <td>3</td>\n",
       "      <td>https://www.zomato.com/bangalore/addhuri-udupi...</td>\n",
       "      <td>1st Floor, Annakuteera, 3rd Stage, Banashankar...</td>\n",
       "      <td>Addhuri Udupi Bhojana</td>\n",
       "      <td>No</td>\n",
       "      <td>No</td>\n",
       "      <td>3.7/5</td>\n",
       "      <td>88</td>\n",
       "      <td>+91 9620009302</td>\n",
       "      <td>Banashankari</td>\n",
       "      <td>Quick Bites</td>\n",
       "      <td>Masala Dosa</td>\n",
       "      <td>South Indian, North Indian</td>\n",
       "      <td>300</td>\n",
       "      <td>[('Rated 4.0', \"RATED\\n  Great food and proper...</td>\n",
       "      <td>[]</td>\n",
       "      <td>Buffet</td>\n",
       "      <td>Banashankari</td>\n",
       "    </tr>\n",
       "    <tr>\n",
       "      <td>4</td>\n",
       "      <td>https://www.zomato.com/bangalore/grand-village...</td>\n",
       "      <td>10, 3rd Floor, Lakshmi Associates, Gandhi Baza...</td>\n",
       "      <td>Grand Village</td>\n",
       "      <td>No</td>\n",
       "      <td>No</td>\n",
       "      <td>3.8/5</td>\n",
       "      <td>166</td>\n",
       "      <td>+91 8026612447\\r\\n+91 9901210005</td>\n",
       "      <td>Basavanagudi</td>\n",
       "      <td>Casual Dining</td>\n",
       "      <td>Panipuri, Gol Gappe</td>\n",
       "      <td>North Indian, Rajasthani</td>\n",
       "      <td>600</td>\n",
       "      <td>[('Rated 4.0', 'RATED\\n  Very good restaurant ...</td>\n",
       "      <td>[]</td>\n",
       "      <td>Buffet</td>\n",
       "      <td>Banashankari</td>\n",
       "    </tr>\n",
       "  </tbody>\n",
       "</table>\n",
       "</div>"
      ],
      "text/plain": [
       "                                                 url  \\\n",
       "0  https://www.zomato.com/bangalore/jalsa-banasha...   \n",
       "1  https://www.zomato.com/bangalore/spice-elephan...   \n",
       "2  https://www.zomato.com/SanchurroBangalore?cont...   \n",
       "3  https://www.zomato.com/bangalore/addhuri-udupi...   \n",
       "4  https://www.zomato.com/bangalore/grand-village...   \n",
       "\n",
       "                                             address                   name  \\\n",
       "0  942, 21st Main Road, 2nd Stage, Banashankari, ...                  Jalsa   \n",
       "1  2nd Floor, 80 Feet Road, Near Big Bazaar, 6th ...         Spice Elephant   \n",
       "2  1112, Next to KIMS Medical College, 17th Cross...        San Churro Cafe   \n",
       "3  1st Floor, Annakuteera, 3rd Stage, Banashankar...  Addhuri Udupi Bhojana   \n",
       "4  10, 3rd Floor, Lakshmi Associates, Gandhi Baza...          Grand Village   \n",
       "\n",
       "  online_order book_table   rate  votes                             phone  \\\n",
       "0          Yes        Yes  4.1/5    775    080 42297555\\r\\n+91 9743772233   \n",
       "1          Yes         No  4.1/5    787                      080 41714161   \n",
       "2          Yes         No  3.8/5    918                    +91 9663487993   \n",
       "3           No         No  3.7/5     88                    +91 9620009302   \n",
       "4           No         No  3.8/5    166  +91 8026612447\\r\\n+91 9901210005   \n",
       "\n",
       "       location            rest_type  \\\n",
       "0  Banashankari        Casual Dining   \n",
       "1  Banashankari        Casual Dining   \n",
       "2  Banashankari  Cafe, Casual Dining   \n",
       "3  Banashankari          Quick Bites   \n",
       "4  Basavanagudi        Casual Dining   \n",
       "\n",
       "                                          dish_liked  \\\n",
       "0  Pasta, Lunch Buffet, Masala Papad, Paneer Laja...   \n",
       "1  Momos, Lunch Buffet, Chocolate Nirvana, Thai G...   \n",
       "2  Churros, Cannelloni, Minestrone Soup, Hot Choc...   \n",
       "3                                        Masala Dosa   \n",
       "4                                Panipuri, Gol Gappe   \n",
       "\n",
       "                         cuisines approx_cost(for two people)  \\\n",
       "0  North Indian, Mughlai, Chinese                         800   \n",
       "1     Chinese, North Indian, Thai                         800   \n",
       "2          Cafe, Mexican, Italian                         800   \n",
       "3      South Indian, North Indian                         300   \n",
       "4        North Indian, Rajasthani                         600   \n",
       "\n",
       "                                        reviews_list menu_item  \\\n",
       "0  [('Rated 4.0', 'RATED\\n  A beautiful place to ...        []   \n",
       "1  [('Rated 4.0', 'RATED\\n  Had been here for din...        []   \n",
       "2  [('Rated 3.0', \"RATED\\n  Ambience is not that ...        []   \n",
       "3  [('Rated 4.0', \"RATED\\n  Great food and proper...        []   \n",
       "4  [('Rated 4.0', 'RATED\\n  Very good restaurant ...        []   \n",
       "\n",
       "  listed_in(type) listed_in(city)  \n",
       "0          Buffet    Banashankari  \n",
       "1          Buffet    Banashankari  \n",
       "2          Buffet    Banashankari  \n",
       "3          Buffet    Banashankari  \n",
       "4          Buffet    Banashankari  "
      ]
     },
     "execution_count": 3,
     "metadata": {},
     "output_type": "execute_result"
    }
   ],
   "source": [
    "df=pd.read_csv('zomato.csv')\n",
    "df.head()"
   ]
  },
  {
   "cell_type": "code",
   "execution_count": 4,
   "metadata": {},
   "outputs": [
    {
     "data": {
      "text/plain": [
       "url                            https://www.zomato.com/bangalore/best-brews-fo...\n",
       "address                        Four Points by Sheraton Bengaluru, 43/3, White...\n",
       "name                           Best Brews - Four Points by Sheraton Bengaluru...\n",
       "online_order                                                                  No\n",
       "book_table                                                                    No\n",
       "rate                                                                      3.6 /5\n",
       "votes                                                                         27\n",
       "phone                                                               080 40301477\n",
       "location                                                              Whitefield\n",
       "rest_type                                                                    Bar\n",
       "dish_liked                                                                   NaN\n",
       "cuisines                                                             Continental\n",
       "approx_cost(for two people)                                                1,500\n",
       "reviews_list                   [('Rated 5.0', \"RATED\\n  Food and service are ...\n",
       "menu_item                                                                     []\n",
       "listed_in(type)                                                    Pubs and bars\n",
       "listed_in(city)                                                       Whitefield\n",
       "Name: 51712, dtype: object"
      ]
     },
     "execution_count": 4,
     "metadata": {},
     "output_type": "execute_result"
    }
   ],
   "source": [
    "df.iloc[51712]"
   ]
  },
  {
   "cell_type": "code",
   "execution_count": 5,
   "metadata": {},
   "outputs": [
    {
     "name": "stdout",
     "output_type": "stream",
     "text": [
      "<class 'pandas.core.frame.DataFrame'>\n",
      "RangeIndex: 51717 entries, 0 to 51716\n",
      "Data columns (total 17 columns):\n",
      "url                            51717 non-null object\n",
      "address                        51717 non-null object\n",
      "name                           51717 non-null object\n",
      "online_order                   51717 non-null object\n",
      "book_table                     51717 non-null object\n",
      "rate                           43942 non-null object\n",
      "votes                          51717 non-null int64\n",
      "phone                          50509 non-null object\n",
      "location                       51696 non-null object\n",
      "rest_type                      51490 non-null object\n",
      "dish_liked                     23639 non-null object\n",
      "cuisines                       51672 non-null object\n",
      "approx_cost(for two people)    51371 non-null object\n",
      "reviews_list                   51717 non-null object\n",
      "menu_item                      51717 non-null object\n",
      "listed_in(type)                51717 non-null object\n",
      "listed_in(city)                51717 non-null object\n",
      "dtypes: int64(1), object(16)\n",
      "memory usage: 6.7+ MB\n"
     ]
    }
   ],
   "source": [
    "df.info()"
   ]
  },
  {
   "cell_type": "markdown",
   "metadata": {},
   "source": [
    "Dataset contains 51717 rows and 17 columns"
   ]
  },
  {
   "cell_type": "markdown",
   "metadata": {},
   "source": [
    "**Column Descrbtion**<br>\n",
    "* **url** : zomato url for the restaurants\n",
    "* **address** : complete location of the restaurant\n",
    "* **name** : name of the restaurant\n",
    "* **online_order** : whether restaurant accepts online order\n",
    "* **book_table** : whether restaurant provides option for booking table\n",
    "* **rate** : restaurants rating on zomato website\n",
    "* **votes** : number of individual who voted for restaurants\n",
    "* **phone** : contact details of the restaurant\n",
    "* **location** : area where restaurant is situated\n",
    "* **rest_type** : Type of restaurants (Categorical value)\n",
    "* **dish_liked** :  what are all dishes of the restaurant that people liked\n",
    "* **cuisines** :  cuisines offered by the restaurant\n",
    "* **approx_cost(for two people)** :  average cost for two people\n",
    "* **review_list** :  reviews of the restaurant on zomato website\n",
    "* **menu_item** :  menu items available in the restaurant\n",
    "* **listed_in(type)** :  type of the restaurant\n",
    "* **listed_in(city)** :  locality of the restaurant position\n"
   ]
  },
  {
   "cell_type": "code",
   "execution_count": 6,
   "metadata": {},
   "outputs": [
    {
     "data": {
      "text/plain": [
       "url                                0\n",
       "address                            0\n",
       "name                               0\n",
       "online_order                       0\n",
       "book_table                         0\n",
       "rate                            7775\n",
       "votes                              0\n",
       "phone                           1208\n",
       "location                          21\n",
       "rest_type                        227\n",
       "dish_liked                     28078\n",
       "cuisines                          45\n",
       "approx_cost(for two people)      346\n",
       "reviews_list                       0\n",
       "menu_item                          0\n",
       "listed_in(type)                    0\n",
       "listed_in(city)                    0\n",
       "dtype: int64"
      ]
     },
     "execution_count": 6,
     "metadata": {},
     "output_type": "execute_result"
    }
   ],
   "source": [
    "df.isnull().sum()"
   ]
  },
  {
   "cell_type": "code",
   "execution_count": 7,
   "metadata": {},
   "outputs": [],
   "source": [
    "df['approx_cost'] =df['approx_cost(for two people)'].astype(str).apply(lambda x: x.replace(',', ''))\n",
    "df['approx_cost'] = df['approx_cost'].astype(float)"
   ]
  },
  {
   "cell_type": "markdown",
   "metadata": {},
   "source": [
    "* Correct data type of approx_cost"
   ]
  },
  {
   "cell_type": "code",
   "execution_count": 8,
   "metadata": {},
   "outputs": [
    {
     "name": "stdout",
     "output_type": "stream",
     "text": [
      "Threating noisy entrance on rate: NEW\n",
      "Threating noisy entrance on rate: -\n"
     ]
    }
   ],
   "source": [
    "df['rate_num'] = df['rate'].astype(str).apply(lambda x: x.split('/')[0])\n",
    "while True:\n",
    "    try:\n",
    "        df['rate_num'] = df['rate_num'].astype(float)\n",
    "        break\n",
    "    except ValueError as e1:\n",
    "        noise_entry = str(e1).split(\":\")[-1].strip().replace(\"'\", \"\")\n",
    "        print(f'Threating noisy entrance on rate: {noise_entry}')\n",
    "        df['rate_num'] = df['rate_num'].apply(lambda x: x.replace(noise_entry, str(np.nan)))\n",
    "\n",
    "# Dropping old column\n",
    "df.drop(['approx_cost(for two people)', 'rate'], axis=1, inplace=True)"
   ]
  },
  {
   "cell_type": "markdown",
   "metadata": {},
   "source": [
    "* clean rate column \" tranfer it from n/5 to n"
   ]
  },
  {
   "cell_type": "code",
   "execution_count": 9,
   "metadata": {},
   "outputs": [
    {
     "data": {
      "text/html": [
       "<div>\n",
       "<style scoped>\n",
       "    .dataframe tbody tr th:only-of-type {\n",
       "        vertical-align: middle;\n",
       "    }\n",
       "\n",
       "    .dataframe tbody tr th {\n",
       "        vertical-align: top;\n",
       "    }\n",
       "\n",
       "    .dataframe thead th {\n",
       "        text-align: right;\n",
       "    }\n",
       "</style>\n",
       "<table border=\"1\" class=\"dataframe\">\n",
       "  <thead>\n",
       "    <tr style=\"text-align: right;\">\n",
       "      <th></th>\n",
       "      <th>votes</th>\n",
       "      <th>approx_cost</th>\n",
       "      <th>rate_num</th>\n",
       "    </tr>\n",
       "  </thead>\n",
       "  <tbody>\n",
       "    <tr>\n",
       "      <td>count</td>\n",
       "      <td>51717.000000</td>\n",
       "      <td>51371.000000</td>\n",
       "      <td>41665.000000</td>\n",
       "    </tr>\n",
       "    <tr>\n",
       "      <td>mean</td>\n",
       "      <td>283.697527</td>\n",
       "      <td>555.431566</td>\n",
       "      <td>3.700449</td>\n",
       "    </tr>\n",
       "    <tr>\n",
       "      <td>std</td>\n",
       "      <td>803.838853</td>\n",
       "      <td>438.850728</td>\n",
       "      <td>0.440513</td>\n",
       "    </tr>\n",
       "    <tr>\n",
       "      <td>min</td>\n",
       "      <td>0.000000</td>\n",
       "      <td>40.000000</td>\n",
       "      <td>1.800000</td>\n",
       "    </tr>\n",
       "    <tr>\n",
       "      <td>25%</td>\n",
       "      <td>7.000000</td>\n",
       "      <td>300.000000</td>\n",
       "      <td>3.400000</td>\n",
       "    </tr>\n",
       "    <tr>\n",
       "      <td>50%</td>\n",
       "      <td>41.000000</td>\n",
       "      <td>400.000000</td>\n",
       "      <td>3.700000</td>\n",
       "    </tr>\n",
       "    <tr>\n",
       "      <td>75%</td>\n",
       "      <td>198.000000</td>\n",
       "      <td>650.000000</td>\n",
       "      <td>4.000000</td>\n",
       "    </tr>\n",
       "    <tr>\n",
       "      <td>max</td>\n",
       "      <td>16832.000000</td>\n",
       "      <td>6000.000000</td>\n",
       "      <td>4.900000</td>\n",
       "    </tr>\n",
       "  </tbody>\n",
       "</table>\n",
       "</div>"
      ],
      "text/plain": [
       "              votes   approx_cost      rate_num\n",
       "count  51717.000000  51371.000000  41665.000000\n",
       "mean     283.697527    555.431566      3.700449\n",
       "std      803.838853    438.850728      0.440513\n",
       "min        0.000000     40.000000      1.800000\n",
       "25%        7.000000    300.000000      3.400000\n",
       "50%       41.000000    400.000000      3.700000\n",
       "75%      198.000000    650.000000      4.000000\n",
       "max    16832.000000   6000.000000      4.900000"
      ]
     },
     "execution_count": 9,
     "metadata": {},
     "output_type": "execute_result"
    }
   ],
   "source": [
    "df.describe()"
   ]
  },
  {
   "cell_type": "markdown",
   "metadata": {},
   "source": [
    "\n",
    "<a id=\"3\"></a>\n",
    "<font color=\"darkslateblue\" size=+2.5><b>3. Exploratory data analysis</b></font>"
   ]
  },
  {
   "attachments": {},
   "cell_type": "markdown",
   "metadata": {},
   "source": [
    "\n",
    "<a id=\"3.1\"></a>\n",
    "<font color=\"dimgrey\" size=+2.0><b>3.1 How many restaurant accept online orders ?</b></font>\n"
   ]
  },
  {
   "cell_type": "code",
   "execution_count": 10,
   "metadata": {},
   "outputs": [],
   "source": [
    "colors = sns.color_palette()\n",
    "def piechart (title,col):\n",
    "    plt.title(title)\n",
    "    plt.pie(df[col].value_counts(),labels=['Yes','No'],colors=colors,autopct = '%0.0f%%')\n",
    "    plt.legend()\n",
    "    plt.show()"
   ]
  },
  {
   "cell_type": "code",
   "execution_count": 11,
   "metadata": {},
   "outputs": [
    {
     "data": {
      "image/png": "[encoded data removed]",
      "text/plain": [
       "<Figure size 432x288 with 1 Axes>"
      ]
     },
     "metadata": {},
     "output_type": "display_data"
    }
   ],
   "source": [
    "piechart('Precentage of resturats that have and do not have online order','online_order')\n"
   ]
  },
  {
   "cell_type": "markdown",
   "metadata": {},
   "source": [
    "* Only 59% from the restaurants have online orders"
   ]
  },
  {
   "attachments": {},
   "cell_type": "markdown",
   "metadata": {},
   "source": [
    "\n",
    "<a id=\"3.2\"></a>\n",
    "<font color=\"dimgrey\" size=+2.0><b>3.2 How many restaurant have Book Table?</b></font>\n",
    "\n"
   ]
  },
  {
   "cell_type": "code",
   "execution_count": 12,
   "metadata": {},
   "outputs": [
    {
     "data": {
      "image/png": "[encoded data removed]",
      "text/plain": [
       "<Figure size 432x288 with 1 Axes>"
      ]
     },
     "metadata": {},
     "output_type": "display_data"
    }
   ],
   "source": [
    "piechart('Precentage of resturats that have and do not have Book Table','book_table')\n"
   ]
  },
  {
   "cell_type": "markdown",
   "metadata": {},
   "source": [
    "* Most of the restaurants have a book table"
   ]
  },
  {
   "cell_type": "markdown",
   "metadata": {},
   "source": [
    "\n",
    "<a id=\"3.3\"></a>\n",
    "<font color=\"dimgrey\" size=+2.0><b>3.3 Which type of restaurants are from the top ten in Bengaluru ? </b></font>\n"
   ]
  },
  {
   "cell_type": "code",
   "execution_count": 13,
   "metadata": {},
   "outputs": [
    {
     "data": {
      "image/png": "[encoded data removed]",
      "text/plain": [
       "<Figure size 720x576 with 1 Axes>"
      ]
     },
     "metadata": {
      "needs_background": "light"
     },
     "output_type": "display_data"
    }
   ],
   "source": [
    "\n",
    "plt.figure(figsize=(10,8))\n",
    "plt.title('Top 10 resturant type in Bengaluru ')\n",
    "df['rest_type'].value_counts()[:10].plot(kind='barh',color=colors);\n",
    "plt.show();"
   ]
  },
  {
   "cell_type": "markdown",
   "metadata": {},
   "source": [
    "* There are 93 different type of restaurants\n",
    "* People in Bengaluru prefer Quick Bites's resturant type<br>\n",
    "* Quick Bite and Casual Dinning are the most dominate type of resturant"
   ]
  },
  {
   "cell_type": "markdown",
   "metadata": {},
   "source": [
    "\n",
    "<a id=\"3.4\"></a>\n",
    "<font color=\"dimgrey\" size=+2.0><b>3.4 What are the main cuisine types available in Bengaluru ?</b></font>\n",
    "\n"
   ]
  },
  {
   "cell_type": "code",
   "execution_count": 13,
   "metadata": {},
   "outputs": [],
   "source": [
    "# Creating a list of all cuisine option\n",
    "cuisines_type = df['cuisines'].astype(str).values\n",
    "cuisine_unique_list=[]\n",
    "for i in [c.split(',') for c in cuisines_type ]:\n",
    "    for  word in i:\n",
    "        cuisine_unique_list.append(word.strip())"
   ]
  },
  {
   "cell_type": "code",
   "execution_count": 14,
   "metadata": {},
   "outputs": [],
   "source": [
    "# creating unique type for cuisines\n",
    "cuisine_unique_dict = Counter(cuisine_unique_list)\n",
    "# creating DataFrame for cuisisnes type\n",
    "df_cuisine = pd.DataFrame()\n",
    "df_cuisine['cuisines']=cuisine_unique_dict.keys()\n",
    "df_cuisine['amount']=cuisine_unique_dict.values()"
   ]
  },
  {
   "cell_type": "code",
   "execution_count": 15,
   "metadata": {
    "scrolled": true
   },
   "outputs": [
    {
     "data": {
      "image/png": "[encoded data removed]",
      "text/plain": [
       "<Figure size 432x288 with 1 Axes>"
      ]
     },
     "metadata": {
      "needs_background": "light"
     },
     "output_type": "display_data"
    }
   ],
   "source": [
    "df_cuisine.sort_values(by='amount', ascending=False, inplace=True)\n",
    "sns.barplot(x='cuisines', y='amount', data=df_cuisine.head(10), palette='Blues_r')\n",
    "plt.title('Top 10 Cusinies type in Bengaluru')\n",
    "plt.xticks(rotation=45)\n",
    "plt.show();"
   ]
  },
  {
   "cell_type": "markdown",
   "metadata": {},
   "source": [
    "* **North Indian's Cuisine** is the most common type in bengaluru"
   ]
  },
  {
   "attachments": {},
   "cell_type": "markdown",
   "metadata": {},
   "source": [
    "\n",
    "<a id=\"3.5\"></a>\n",
    "<font color=\"dimgrey\" size=+2.0><b>3.5 What is the range of approximate cost for two person for each restaurant ?</b></font>\n",
    "\n"
   ]
  },
  {
   "cell_type": "code",
   "execution_count": 16,
   "metadata": {},
   "outputs": [
    {
     "data": {
      "image/png": "[encoded data removed]",
      "text/plain": [
       "<Figure size 720x216 with 1 Axes>"
      ]
     },
     "metadata": {
      "needs_background": "light"
     },
     "output_type": "display_data"
    }
   ],
   "source": [
    "plt.figure(figsize=(10,3))\n",
    "sns.boxplot(df['approx_cost'].dropna())\n",
    "plt.show()"
   ]
  },
  {
   "cell_type": "markdown",
   "metadata": {},
   "source": [
    "* Almost 90% of restaurant cost for two person is less than 1000 INR. (237 LE)"
   ]
  },
  {
   "cell_type": "markdown",
   "metadata": {},
   "source": [
    "<a id=\"3.6\"></a>\n",
    "<font color=\"dimgrey\" size=+2.0><b>3.6 What are the most popular restaurants ?</b></font>\n",
    "\n"
   ]
  },
  {
   "cell_type": "markdown",
   "metadata": {},
   "source": [
    "To answer this question,we are grouping the data by each resturant name then we will show the popular resturants according to how many votes it takes? ,how much is it cost? and number of its branches"
   ]
  },
  {
   "cell_type": "code",
   "execution_count": 17,
   "metadata": {},
   "outputs": [],
   "source": [
    "popular_branchies=df.groupby(by='name',as_index=False).agg({'votes':'sum',\n",
    "                                                           'url':'count',\n",
    "                                                           'approx_cost':'mean'})\n",
    "popular_branchies.columns = ['name', 'total_votes', 'total_branchies', 'mean_approx_cost']\n",
    "popular_branchies = popular_branchies.sort_values(by='total_branchies', ascending=False)\n",
    "popular_branchies = popular_branchies.loc[:, ['name', 'total_branchies', 'total_votes',\n",
    "                                                'mean_approx_cost']]"
   ]
  },
  {
   "cell_type": "markdown",
   "metadata": {},
   "source": [
    "* number of each branches were counted by counting number of url for each restaurant"
   ]
  },
  {
   "cell_type": "code",
   "execution_count": 18,
   "metadata": {
    "scrolled": true
   },
   "outputs": [
    {
     "data": {
      "text/html": [
       "<div>\n",
       "<style scoped>\n",
       "    .dataframe tbody tr th:only-of-type {\n",
       "        vertical-align: middle;\n",
       "    }\n",
       "\n",
       "    .dataframe tbody tr th {\n",
       "        vertical-align: top;\n",
       "    }\n",
       "\n",
       "    .dataframe thead th {\n",
       "        text-align: right;\n",
       "    }\n",
       "</style>\n",
       "<table border=\"1\" class=\"dataframe\">\n",
       "  <thead>\n",
       "    <tr style=\"text-align: right;\">\n",
       "      <th></th>\n",
       "      <th>name</th>\n",
       "      <th>total_branchies</th>\n",
       "      <th>total_votes</th>\n",
       "      <th>mean_approx_cost</th>\n",
       "    </tr>\n",
       "  </thead>\n",
       "  <tbody>\n",
       "    <tr>\n",
       "      <td>1320</td>\n",
       "      <td>Cafe Coffee Day</td>\n",
       "      <td>96</td>\n",
       "      <td>3089</td>\n",
       "      <td>844.791667</td>\n",
       "    </tr>\n",
       "    <tr>\n",
       "      <td>5549</td>\n",
       "      <td>Onesta</td>\n",
       "      <td>85</td>\n",
       "      <td>347520</td>\n",
       "      <td>600.000000</td>\n",
       "    </tr>\n",
       "    <tr>\n",
       "      <td>3788</td>\n",
       "      <td>Just Bake</td>\n",
       "      <td>73</td>\n",
       "      <td>2898</td>\n",
       "      <td>400.000000</td>\n",
       "    </tr>\n",
       "    <tr>\n",
       "      <td>2446</td>\n",
       "      <td>Empire Restaurant</td>\n",
       "      <td>71</td>\n",
       "      <td>229808</td>\n",
       "      <td>685.211268</td>\n",
       "    </tr>\n",
       "    <tr>\n",
       "      <td>2577</td>\n",
       "      <td>Five Star Chicken</td>\n",
       "      <td>70</td>\n",
       "      <td>3134</td>\n",
       "      <td>257.857143</td>\n",
       "    </tr>\n",
       "    <tr>\n",
       "      <td>3958</td>\n",
       "      <td>Kanti Sweets</td>\n",
       "      <td>68</td>\n",
       "      <td>7336</td>\n",
       "      <td>400.000000</td>\n",
       "    </tr>\n",
       "    <tr>\n",
       "      <td>5790</td>\n",
       "      <td>Petoo</td>\n",
       "      <td>66</td>\n",
       "      <td>4242</td>\n",
       "      <td>659.848485</td>\n",
       "    </tr>\n",
       "    <tr>\n",
       "      <td>5840</td>\n",
       "      <td>Polar Bear</td>\n",
       "      <td>65</td>\n",
       "      <td>8121</td>\n",
       "      <td>361.538462</td>\n",
       "    </tr>\n",
       "    <tr>\n",
       "      <td>827</td>\n",
       "      <td>Baskin Robbins</td>\n",
       "      <td>64</td>\n",
       "      <td>2487</td>\n",
       "      <td>251.562500</td>\n",
       "    </tr>\n",
       "    <tr>\n",
       "      <td>1655</td>\n",
       "      <td>Chef Baker's</td>\n",
       "      <td>62</td>\n",
       "      <td>5073</td>\n",
       "      <td>516.071429</td>\n",
       "    </tr>\n",
       "  </tbody>\n",
       "</table>\n",
       "</div>"
      ],
      "text/plain": [
       "                   name  total_branchies  total_votes  mean_approx_cost\n",
       "1320    Cafe Coffee Day               96         3089        844.791667\n",
       "5549             Onesta               85       347520        600.000000\n",
       "3788          Just Bake               73         2898        400.000000\n",
       "2446  Empire Restaurant               71       229808        685.211268\n",
       "2577  Five Star Chicken               70         3134        257.857143\n",
       "3958       Kanti Sweets               68         7336        400.000000\n",
       "5790              Petoo               66         4242        659.848485\n",
       "5840         Polar Bear               65         8121        361.538462\n",
       "827      Baskin Robbins               64         2487        251.562500\n",
       "1655       Chef Baker's               62         5073        516.071429"
      ]
     },
     "execution_count": 18,
     "metadata": {},
     "output_type": "execute_result"
    }
   ],
   "source": [
    "popular_branchies.head(10)"
   ]
  },
  {
   "cell_type": "markdown",
   "metadata": {},
   "source": [
    "Put this in function"
   ]
  },
  {
   "cell_type": "code",
   "execution_count": 19,
   "metadata": {},
   "outputs": [
    {
     "data": {
      "text/plain": [
       "Text(0, 0.5, 'Number of branchies')"
      ]
     },
     "execution_count": 19,
     "metadata": {},
     "output_type": "execute_result"
    },
    {
     "data": {
      "image/png": "[encoded data removed]",
      "text/plain": [
       "<Figure size 1080x720 with 3 Axes>"
      ]
     },
     "metadata": {
      "needs_background": "light"
     },
     "output_type": "display_data"
    }
   ],
   "source": [
    "fig, axs = plt.subplots(1, 3, figsize=(15,10))\n",
    "sns.barplot( x='name',y='total_votes', data=popular_branchies.sort_values(by='total_votes', ascending=False).head(10),\n",
    "            ax=axs[0], palette='Blues_r')\n",
    "axs[0].set_title('Top 10 Most Voted Restaurants', size=12)\n",
    "axs[0].tick_params(labelrotation=70)\n",
    "axs[0].set_xlabel('Resturant\\'s Name')\n",
    "axs[0].set_ylabel('Total Number of Votes')\n",
    "sns.barplot( x='name',y='mean_approx_cost', data=popular_branchies.sort_values(by='mean_approx_cost', ascending=False).head(10),\n",
    "            ax=axs[1], palette='Blues_r')\n",
    "axs[1].set_title('Top 10 Most Expensives Restaurants', size=12)\n",
    "axs[1].tick_params(labelrotation=70)\n",
    "axs[1].set_xlabel('Resturant\\'s Name')\n",
    "axs[1].set_ylabel('Mean of Approximate Cost')\n",
    "sns.barplot( x='name',y='total_branchies', data=popular_branchies.head(10),\n",
    "            ax=axs[2], palette='Blues_r')\n",
    "axs[2].set_title('Top 10 Most Common Restaurants', size=12)\n",
    "axs[2].tick_params(labelrotation=70)\n",
    "axs[2].set_xlabel('Resturant\\'s Name')\n",
    "axs[2].set_ylabel('Number of branchies')"
   ]
  },
  {
   "cell_type": "markdown",
   "metadata": {},
   "source": [
    "* As we see in the first bar plot the most voted resturant is **Onseta**\n",
    "* In the second bar plot the most expensive resturant is **Le Cirque Signature - The Leela Palace**\n",
    "* In the Last bar plot the most common resturant is **Cafe Coffee Day**"
   ]
  },
  {
   "cell_type": "markdown",
   "metadata": {},
   "source": [
    "\n",
    "\n",
    "<a id=\"3.7\"></a>\n",
    "<font color=\"dimgrey\" size=+2.0><b>3.7 What is the effect of Book table on rate and cost ?</b></font>\n",
    "\n"
   ]
  },
  {
   "cell_type": "code",
   "execution_count": 20,
   "metadata": {},
   "outputs": [],
   "source": [
    "def FaceGrid(col,name,title):\n",
    "    grid = sns.FacetGrid(df,col=col, height=4, aspect=3)\n",
    "    grid.fig.suptitle(title,size=20, color='blue')\n",
    "    return(grid.map(sns.kdeplot, name))"
   ]
  },
  {
   "cell_type": "code",
   "execution_count": 21,
   "metadata": {
    "scrolled": false
   },
   "outputs": [
    {
     "data": {
      "image/png": "[encoded data removed]",
      "text/plain": [
       "<Figure size 1728x288 with 2 Axes>"
      ]
     },
     "metadata": {
      "needs_background": "light"
     },
     "output_type": "display_data"
    }
   ],
   "source": [
    "FaceGrid('book_table','rate_num','The effect of Book Table on Resturant Rate');\n",
    "\n"
   ]
  },
  {
   "cell_type": "markdown",
   "metadata": {},
   "source": [
    "* Resturant with book table service always recieve highest rate"
   ]
  },
  {
   "cell_type": "code",
   "execution_count": 22,
   "metadata": {
    "scrolled": false
   },
   "outputs": [
    {
     "data": {
      "image/png": "[encoded data removed]",
      "text/plain": [
       "<Figure size 1728x288 with 2 Axes>"
      ]
     },
     "metadata": {
      "needs_background": "light"
     },
     "output_type": "display_data"
    }
   ],
   "source": [
    "FaceGrid('book_table','approx_cost','The effect of Book Table on Resturant Cost');"
   ]
  },
  {
   "cell_type": "markdown",
   "metadata": {},
   "source": [
    "* From here we can indicate that expenisive resturant usually have high rate"
   ]
  },
  {
   "cell_type": "markdown",
   "metadata": {},
   "source": [
    "\n",
    "<a id=\"3.8\"></a>\n",
    "<font color=\"dimgrey\" size=+2.0><b>3.8 Where are the best restaurants ?</b></font>\n",
    "\n"
   ]
  },
  {
   "cell_type": "code",
   "execution_count": 24,
   "metadata": {},
   "outputs": [
    {
     "data": {
      "text/html": [
       "<div>\n",
       "<style scoped>\n",
       "    .dataframe tbody tr th:only-of-type {\n",
       "        vertical-align: middle;\n",
       "    }\n",
       "\n",
       "    .dataframe tbody tr th {\n",
       "        vertical-align: top;\n",
       "    }\n",
       "\n",
       "    .dataframe thead th {\n",
       "        text-align: right;\n",
       "    }\n",
       "</style>\n",
       "<table border=\"1\" class=\"dataframe\">\n",
       "  <thead>\n",
       "    <tr style=\"text-align: right;\">\n",
       "      <th></th>\n",
       "      <th>location</th>\n",
       "      <th>total_branchies</th>\n",
       "      <th>total_votes</th>\n",
       "      <th>mean_approx_cost</th>\n",
       "    </tr>\n",
       "  </thead>\n",
       "  <tbody>\n",
       "    <tr>\n",
       "      <td>0</td>\n",
       "      <td>BTM</td>\n",
       "      <td>5124</td>\n",
       "      <td>619376</td>\n",
       "      <td>396.480973</td>\n",
       "    </tr>\n",
       "    <tr>\n",
       "      <td>22</td>\n",
       "      <td>HSR</td>\n",
       "      <td>2523</td>\n",
       "      <td>499720</td>\n",
       "      <td>475.610048</td>\n",
       "    </tr>\n",
       "    <tr>\n",
       "      <td>45</td>\n",
       "      <td>Koramangala 5th Block</td>\n",
       "      <td>2504</td>\n",
       "      <td>2219506</td>\n",
       "      <td>663.663845</td>\n",
       "    </tr>\n",
       "    <tr>\n",
       "      <td>29</td>\n",
       "      <td>JP Nagar</td>\n",
       "      <td>2235</td>\n",
       "      <td>586593</td>\n",
       "      <td>522.771300</td>\n",
       "    </tr>\n",
       "    <tr>\n",
       "      <td>89</td>\n",
       "      <td>Whitefield</td>\n",
       "      <td>2144</td>\n",
       "      <td>466829</td>\n",
       "      <td>598.152836</td>\n",
       "    </tr>\n",
       "    <tr>\n",
       "      <td>27</td>\n",
       "      <td>Indiranagar</td>\n",
       "      <td>2083</td>\n",
       "      <td>1196007</td>\n",
       "      <td>653.788027</td>\n",
       "    </tr>\n",
       "    <tr>\n",
       "      <td>32</td>\n",
       "      <td>Jayanagar</td>\n",
       "      <td>1926</td>\n",
       "      <td>488080</td>\n",
       "      <td>476.407716</td>\n",
       "    </tr>\n",
       "    <tr>\n",
       "      <td>56</td>\n",
       "      <td>Marathahalli</td>\n",
       "      <td>1846</td>\n",
       "      <td>445201</td>\n",
       "      <td>513.750683</td>\n",
       "    </tr>\n",
       "    <tr>\n",
       "      <td>3</td>\n",
       "      <td>Bannerghatta Road</td>\n",
       "      <td>1630</td>\n",
       "      <td>219077</td>\n",
       "      <td>443.679654</td>\n",
       "    </tr>\n",
       "    <tr>\n",
       "      <td>6</td>\n",
       "      <td>Bellandur</td>\n",
       "      <td>1286</td>\n",
       "      <td>206027</td>\n",
       "      <td>527.503888</td>\n",
       "    </tr>\n",
       "  </tbody>\n",
       "</table>\n",
       "</div>"
      ],
      "text/plain": [
       "                 location  total_branchies  total_votes  mean_approx_cost\n",
       "0                     BTM             5124       619376        396.480973\n",
       "22                    HSR             2523       499720        475.610048\n",
       "45  Koramangala 5th Block             2504      2219506        663.663845\n",
       "29               JP Nagar             2235       586593        522.771300\n",
       "89             Whitefield             2144       466829        598.152836\n",
       "27            Indiranagar             2083      1196007        653.788027\n",
       "32              Jayanagar             1926       488080        476.407716\n",
       "56           Marathahalli             1846       445201        513.750683\n",
       "3       Bannerghatta Road             1630       219077        443.679654\n",
       "6               Bellandur             1286       206027        527.503888"
      ]
     },
     "execution_count": 24,
     "metadata": {},
     "output_type": "execute_result"
    }
   ],
   "source": [
    "rest_location = df.groupby(by = 'location' , as_index = False).agg({'votes':'sum',\n",
    "                                                           'url':'count',\n",
    "                                                           'approx_cost':'mean'})\n",
    "rest_location.columns = ['location', 'total_votes', 'total_branchies', 'mean_approx_cost']\n",
    "rest_location = rest_location.sort_values(by='total_branchies', ascending=False)\n",
    "rest_location = rest_location.loc[:, ['location', 'total_branchies', 'total_votes',\n",
    "                                                'mean_approx_cost']]\n",
    "rest_location.head(10)"
   ]
  },
  {
   "cell_type": "code",
   "execution_count": 25,
   "metadata": {},
   "outputs": [
    {
     "data": {
      "text/plain": [
       "Text(0, 0.5, 'Number of branchies')"
      ]
     },
     "execution_count": 25,
     "metadata": {},
     "output_type": "execute_result"
    },
    {
     "data": {
      "image/png": "[encoded data removed]",
      "text/plain": [
       "<Figure size 1080x720 with 3 Axes>"
      ]
     },
     "metadata": {
      "needs_background": "light"
     },
     "output_type": "display_data"
    }
   ],
   "source": [
    "fig, axs = plt.subplots(1, 3, figsize=(15,10))\n",
    "sns.barplot( x='location',y='total_votes', data=rest_location.sort_values(by='total_votes', ascending=False).head(10),\n",
    "            ax=axs[0], palette='Blues_r')\n",
    "axs[0].set_title('Top 10 Most Voted location', size=12)\n",
    "axs[0].tick_params(labelrotation=70)\n",
    "axs[0].set_xlabel('location\\'s Name')\n",
    "axs[0].set_ylabel('Total Number of Votes')\n",
    "sns.barplot( x='location',y='mean_approx_cost', data=rest_location.sort_values(by='mean_approx_cost', ascending=False).head(10),\n",
    "            ax=axs[1], palette='Blues_r')\n",
    "axs[1].set_title('Top 10 Most Expensives location', size=12)\n",
    "axs[1].tick_params(labelrotation=70)\n",
    "axs[1].set_xlabel('location\\'s Name')\n",
    "axs[1].set_ylabel('Mean of Approximate Cost')\n",
    "sns.barplot( x='location',y='total_branchies', data=rest_location.head(10),\n",
    "            ax=axs[2], palette='Blues_r')\n",
    "axs[2].set_title('Top 10 Most Common location', size=12)\n",
    "axs[2].tick_params(labelrotation=70)\n",
    "axs[2].set_xlabel('location\\'s Name')\n",
    "axs[2].set_ylabel('Number of branchies')"
   ]
  },
  {
   "cell_type": "markdown",
   "metadata": {},
   "source": [
    "* as we can see here the most voted loaction is **Koramangala 5th Block**\n",
    "* the most expensive loaction is **Sankey Road**\n",
    "* the most Common loaction is **BTM**"
   ]
  },
  {
   "cell_type": "markdown",
   "metadata": {},
   "source": [
    "\n",
    "<a id=\"3.9\"></a>\n",
    "<font color=\"dimgrey\" size=+2.0><b>3.9 How are rate and cost affect on choosing best city to eat in it ?</b></font>"
   ]
  },
  {
   "cell_type": "code",
   "execution_count": 26,
   "metadata": {},
   "outputs": [
    {
     "data": {
      "image/png": "[encoded data removed]",
      "text/plain": [
       "<Figure size 1080x576 with 2 Axes>"
      ]
     },
     "metadata": {
      "needs_background": "light"
     },
     "output_type": "display_data"
    }
   ],
   "source": [
    "# Grouping data by city\n",
    "city_group = df.groupby(by='listed_in(city)', as_index=False).agg({'rate_num': 'mean',\n",
    "                                                                               'approx_cost': 'mean'})\n",
    "city_group.sort_values(by='rate_num', ascending=False, inplace=True)\n",
    "\n",
    "# Ploting\n",
    "fig, ax = plt.subplots(figsize=(15, 8))\n",
    "sns.barplot(x='listed_in(city)', y='approx_cost', data=city_group, palette='rocket_r', \n",
    "            order=city_group['listed_in(city)'])\n",
    "ax2 = ax.twinx()\n",
    "sns.lineplot(x='listed_in(city)', y='rate_num', data=city_group, color='gray', ax=ax2, sort=False)\n",
    "\n",
    "# Labeling line chart (rate)\n",
    "xs = np.arange(0, len(city_group), 1)\n",
    "ys = city_group['rate_num']\n",
    "for x,y in zip(xs, ys):\n",
    "    label = \"{:.2f}\".format(y)\n",
    "    plt.annotate(label, # this is the text\n",
    "                 (x,y), # this is the point to label\n",
    "                 textcoords=\"offset points\", # how to position the text\n",
    "                 xytext=(0,10), # distance from text to points (x,y)\n",
    "                 ha='center', # horizontal alignment can be left, right or center\n",
    "                 color='black')\n",
    "    \n",
    "# Labeling bar chart (cost)\n",
    "for p in ax.patches:\n",
    "    x = p.get_bbox().get_points()[:, 0]\n",
    "    y = p.get_bbox().get_points()[1, 1]\n",
    "    ax.annotate('{}'.format(int(y)), (x.mean(), 15), va='bottom', rotation='vertical', color='white', \n",
    "                fontweight='bold')\n",
    "\n",
    "# Customizing chart\n",
    "\n",
    "ax.tick_params(axis='x', labelrotation=90)\n",
    "ax.set_title('Bengaluru Cities and all its Restaurants by Cost (bars) and Rate (line)')\n",
    "plt.show()"
   ]
  },
  {
   "cell_type": "markdown",
   "metadata": {},
   "source": [
    "* Customers tend to go to cities which have high rate and almost have a regular cost"
   ]
  },
  {
   "cell_type": "markdown",
   "metadata": {},
   "source": [
    "<a id=\"3.10\"></a>\n",
    "<font color=\"dimgrey\" size=+2.0><b>3.10 Heatmap of restaurant count on each location</b></font>"
   ]
  },
  {
   "cell_type": "markdown",
   "metadata": {},
   "source": [
    "### now let's extract location of cities using Geopy library"
   ]
  },
  {
   "cell_type": "code",
   "execution_count": 14,
   "metadata": {},
   "outputs": [],
   "source": [
    "locations=pd.DataFrame({\"Name\":df['location'].unique()})\n",
    "# locations['Name']=locations['Name'].apply(lambda x: \"Bangalore \" + str(x))\n",
    "lat_lon=[]"
   ]
  },
  {
   "cell_type": "code",
   "execution_count": 15,
   "metadata": {},
   "outputs": [],
   "source": [
    "\n",
    "geolocator=Nominatim(user_agent=\"app\")\n",
    "for location in locations['Name']:\n",
    "    location = geolocator.geocode(location)\n",
    "    if location is None:\n",
    "        lat_lon.append(np.nan)\n",
    "    else:    \n",
    "        geo=(location.latitude,location.longitude)\n",
    "        lat_lon.append(geo)\n",
    "\n",
    "\n",
    "locations['geo_loc']=lat_lon\n",
    "locations.to_csv('locations.csv',index=False)"
   ]
  },
  {
   "cell_type": "code",
   "execution_count": 16,
   "metadata": {
    "scrolled": true
   },
   "outputs": [
    {
     "data": {
      "text/html": [
       "<div>\n",
       "<style scoped>\n",
       "    .dataframe tbody tr th:only-of-type {\n",
       "        vertical-align: middle;\n",
       "    }\n",
       "\n",
       "    .dataframe tbody tr th {\n",
       "        vertical-align: top;\n",
       "    }\n",
       "\n",
       "    .dataframe thead th {\n",
       "        text-align: right;\n",
       "    }\n",
       "</style>\n",
       "<table border=\"1\" class=\"dataframe\">\n",
       "  <thead>\n",
       "    <tr style=\"text-align: right;\">\n",
       "      <th></th>\n",
       "      <th>Name</th>\n",
       "      <th>geo_loc</th>\n",
       "    </tr>\n",
       "  </thead>\n",
       "  <tbody>\n",
       "    <tr>\n",
       "      <td>0</td>\n",
       "      <td>Banashankari</td>\n",
       "      <td>(15.8876779, 75.7046777)</td>\n",
       "    </tr>\n",
       "    <tr>\n",
       "      <td>1</td>\n",
       "      <td>Basavanagudi</td>\n",
       "      <td>(12.9417261, 77.5755021)</td>\n",
       "    </tr>\n",
       "    <tr>\n",
       "      <td>2</td>\n",
       "      <td>Mysore Road</td>\n",
       "      <td>(12.9467026, 77.5300705)</td>\n",
       "    </tr>\n",
       "    <tr>\n",
       "      <td>3</td>\n",
       "      <td>Jayanagar</td>\n",
       "      <td>(27.64392675, 83.05280519687284)</td>\n",
       "    </tr>\n",
       "    <tr>\n",
       "      <td>4</td>\n",
       "      <td>Kumaraswamy Layout</td>\n",
       "      <td>(12.9081487, 77.5553179)</td>\n",
       "    </tr>\n",
       "  </tbody>\n",
       "</table>\n",
       "</div>"
      ],
      "text/plain": [
       "                 Name                           geo_loc\n",
       "0        Banashankari          (15.8876779, 75.7046777)\n",
       "1        Basavanagudi          (12.9417261, 77.5755021)\n",
       "2         Mysore Road          (12.9467026, 77.5300705)\n",
       "3           Jayanagar  (27.64392675, 83.05280519687284)\n",
       "4  Kumaraswamy Layout          (12.9081487, 77.5553179)"
      ]
     },
     "execution_count": 16,
     "metadata": {},
     "output_type": "execute_result"
    }
   ],
   "source": [
    "# locations[\"Name\"]=locations['Name'].apply(lambda x :  x.replace(\"Bangalore\",\"\")[1:])\n",
    "locations.head()"
   ]
  },
  {
   "cell_type": "markdown",
   "metadata": {},
   "source": [
    "## Heatmap of restaurant count on each location"
   ]
  },
  {
   "cell_type": "code",
   "execution_count": 17,
   "metadata": {},
   "outputs": [
    {
     "data": {
      "text/plain": [
       "5124"
      ]
     },
     "execution_count": 17,
     "metadata": {},
     "output_type": "execute_result"
    }
   ],
   "source": [
    "Rest_locations=pd.DataFrame(df['location'].value_counts().reset_index())\n",
    "Rest_locations.columns=['Name','count']\n",
    "Rest_locations=Rest_locations.merge(locations,on='Name',how=\"left\").dropna()\n",
    "Rest_locations['count'].max()"
   ]
  },
  {
   "cell_type": "code",
   "execution_count": 18,
   "metadata": {},
   "outputs": [],
   "source": [
    "def generateBaseMap(default_location=[12.9, 77.57], default_zoom_start=10):\n",
    "    base_map = folium.Map(location=default_location, control_scale=True, zoom_start=default_zoom_start)\n",
    "    return base_map"
   ]
  },
  {
   "cell_type": "code",
   "execution_count": 19,
   "metadata": {},
   "outputs": [
    {
     "data": {
      "text/plain": [
       "<folium.plugins.heat_map.HeatMap at 0x262000f1f48>"
      ]
     },
     "execution_count": 19,
     "metadata": {},
     "output_type": "execute_result"
    }
   ],
   "source": [
    "lat,lon=zip(*np.array(Rest_locations['geo_loc']))\n",
    "Rest_locations['lat']=lat\n",
    "Rest_locations['lon']=lon\n",
    "basemap=generateBaseMap()\n",
    "HeatMap(Rest_locations[['lat','lon','count']].values.tolist(),zoom=20,radius=15).add_to(basemap)"
   ]
  },
  {
   "cell_type": "code",
   "execution_count": 20,
   "metadata": {},
   "outputs": [
    {
     "data": {
      "text/html": [
       "<div style=\"width:100%;\"><div style=\"position:relative;width:100%;height:0;padding-bottom:60%;\"><span style=\"color:#565656\">Make this Notebook Trusted to load map: File -> Trust Notebook</span><iframe srcdoc=\"&lt;!DOCTYPE html&gt;\n",
       "&lt;head&gt;    \n",
       "    &lt;meta http-equiv=&quot;content-type&quot; content=&quot;text/html; charset=UTF-8&quot; /&gt;\n",
       "    \n",
       "        &lt;script&gt;\n",
       "            L_NO_TOUCH = false;\n",
       "            L_DISABLE_3D = false;\n",
       "        &lt;/script&gt;\n",
       "    \n",
       "    &lt;style&gt;html, body {width: 100%;height: 100%;margin: 0;padding: 0;}&lt;/style&gt;\n",
       "    &lt;style&gt;#map {position:absolute;top:0;bottom:0;right:0;left:0;}&lt;/style&gt;\n",
       "    &lt;script src=&quot;https://cdn.jsdelivr.net/npm/leaflet@1.6.0/dist/leaflet.js&quot;&gt;&lt;/script&gt;\n",
       "    &lt;script src=&quot;https://code.jquery.com/jquery-1.12.4.min.js&quot;&gt;&lt;/script&gt;\n",
       "    &lt;script src=&quot;https://maxcdn.bootstrapcdn.com/bootstrap/3.2.0/js/bootstrap.min.js&quot;&gt;&lt;/script&gt;\n",
       "    &lt;script src=&quot;https://cdnjs.cloudflare.com/ajax/libs/Leaflet.awesome-markers/2.0.2/leaflet.awesome-markers.js&quot;&gt;&lt;/script&gt;\n",
       "    &lt;link rel=&quot;stylesheet&quot; href=&quot;https://cdn.jsdelivr.net/npm/leaflet@1.6.0/dist/leaflet.css&quot;/&gt;\n",
       "    &lt;link rel=&quot;stylesheet&quot; href=&quot;https://maxcdn.bootstrapcdn.com/bootstrap/3.2.0/css/bootstrap.min.css&quot;/&gt;\n",
       "    &lt;link rel=&quot;stylesheet&quot; href=&quot;https://maxcdn.bootstrapcdn.com/bootstrap/3.2.0/css/bootstrap-theme.min.css&quot;/&gt;\n",
       "    &lt;link rel=&quot;stylesheet&quot; href=&quot;https://maxcdn.bootstrapcdn.com/font-awesome/4.6.3/css/font-awesome.min.css&quot;/&gt;\n",
       "    &lt;link rel=&quot;stylesheet&quot; href=&quot;https://cdnjs.cloudflare.com/ajax/libs/Leaflet.awesome-markers/2.0.2/leaflet.awesome-markers.css&quot;/&gt;\n",
       "    &lt;link rel=&quot;stylesheet&quot; href=&quot;https://cdn.jsdelivr.net/gh/python-visualization/folium/folium/templates/leaflet.awesome.rotate.min.css&quot;/&gt;\n",
       "    \n",
       "            &lt;meta name=&quot;viewport&quot; content=&quot;width=device-width,\n",
       "                initial-scale=1.0, maximum-scale=1.0, user-scalable=no&quot; /&gt;\n",
       "            &lt;style&gt;\n",
       "                #map_d23bb64029ca0fb74139dde211537792 {\n",
       "                    position: relative;\n",
       "                    width: 100.0%;\n",
       "                    height: 100.0%;\n",
       "                    left: 0.0%;\n",
       "                    top: 0.0%;\n",
       "                }\n",
       "            &lt;/style&gt;\n",
       "        \n",
       "    &lt;script src=&quot;https://cdn.jsdelivr.net/gh/python-visualization/folium@master/folium/templates/leaflet_heat.min.js&quot;&gt;&lt;/script&gt;\n",
       "&lt;/head&gt;\n",
       "&lt;body&gt;    \n",
       "    \n",
       "            &lt;div class=&quot;folium-map&quot; id=&quot;map_d23bb64029ca0fb74139dde211537792&quot; &gt;&lt;/div&gt;\n",
       "        \n",
       "&lt;/body&gt;\n",
       "&lt;script&gt;    \n",
       "    \n",
       "            var map_d23bb64029ca0fb74139dde211537792 = L.map(\n",
       "                &quot;map_d23bb64029ca0fb74139dde211537792&quot;,\n",
       "                {\n",
       "                    center: [12.9, 77.57],\n",
       "                    crs: L.CRS.EPSG3857,\n",
       "                    zoom: 10,\n",
       "                    zoomControl: true,\n",
       "                    preferCanvas: false,\n",
       "                }\n",
       "            );\n",
       "            L.control.scale().addTo(map_d23bb64029ca0fb74139dde211537792);\n",
       "\n",
       "            \n",
       "\n",
       "        \n",
       "    \n",
       "            var tile_layer_c844339d601624e37bc885e9893269f9 = L.tileLayer(\n",
       "                &quot;https://{s}.tile.openstreetmap.org/{z}/{x}/{y}.png&quot;,\n",
       "                {&quot;attribution&quot;: &quot;Data by \\u0026copy; \\u003ca href=\\&quot;http://openstreetmap.org\\&quot;\\u003eOpenStreetMap\\u003c/a\\u003e, under \\u003ca href=\\&quot;http://www.openstreetmap.org/copyright\\&quot;\\u003eODbL\\u003c/a\\u003e.&quot;, &quot;detectRetina&quot;: false, &quot;maxNativeZoom&quot;: 18, &quot;maxZoom&quot;: 18, &quot;minZoom&quot;: 0, &quot;noWrap&quot;: false, &quot;opacity&quot;: 1, &quot;subdomains&quot;: &quot;abc&quot;, &quot;tms&quot;: false}\n",
       "            ).addTo(map_d23bb64029ca0fb74139dde211537792);\n",
       "        \n",
       "    \n",
       "            var heat_map_3c60aa88c6beba0f57b4fdc327789cdb = L.heatLayer(\n",
       "                [[45.95485055, -112.49659530324134, 5124.0], [18.1475, 41.538889, 2523.0], [12.9348429, 77.6189768, 2504.0], [12.2655944, 76.6465404, 2235.0], [53.5533682, -2.2969019, 2144.0], [12.9732913, 77.6404672, 2083.0], [27.64392675, 83.05280519687284, 1926.0], [12.9552572, 77.6984163, 1846.0], [12.9211978, 77.6002222, 1630.0], [12.93103185, 77.6782471, 1286.0], [12.848759900000001, 77.64825295827616, 1258.0], [12.9275886, 77.6308832, 1238.0], [40.28745, -76.964526, 1218.0], [12.9364846, 77.6134783, 1181.0], [12.9390255, 77.6238477, 1156.0], [12.9242381, 77.6289059, 1065.0], [12.9778793, 77.6246697, 1023.0], [12.9327778, 77.6294052, 1017.0], [12.9755264, 77.6067902, 918.0], [15.8876779, 75.7046777, 906.0], [13.0221416, 77.6403368, 853.0], [40.5759389, -74.1254948, 812.0], [12.996845, 77.6130165, 727.0], [13.0027353, 77.5703253, 725.0], [12.9417261, 77.5755021, 684.0], [38.7350244, -77.5269973, 675.0], [13.0141618, 77.6518539, 664.0], [33.5935063, -79.0345627, 658.0], [13.0170461, 77.5726933, 649.0], [13.0093455, 77.6377094, 648.0], [12.9882338, 77.554883, 591.0], [40.7159493, -74.0071466, 569.0], [40.7652844, -76.373824, 529.0], [12.983117, 80.0578688, 511.0], [18.5322493, 73.8499601124847, 499.0], [12.9624669, 77.6381958, 496.0], [36.5348643, -79.0905056, 491.0], [43.7964474, -99.3168754, 446.0], [12.945245, 77.6269144, 439.0], [51.5154582, -0.072028, 370.0], [33.117255, -84.837311, 352.0], [12.9408685, 77.617338, 320.0], [12.988721250000001, 77.58516877601824, 295.0], [12.9678074, 77.6568367, 272.0], [12.9489339, 77.5968273, 246.0], [12.9089453, 77.6239038, 238.0], [12.9282918, 77.6254034, 216.0], [12.9081487, 77.5553179, 195.0], [12.973936, 77.6509982, 194.0], [12.2950874, 76.6149845, 191.0], [13.2227, 78.5541977, 187.0], [12.9931876, 77.5753419, 165.0], [13.0258087, 77.6305067, 161.0], [1.2847055, 103.84320655721689, 155.0], [13.0358698, 77.6323597, 153.0], [34.977289, -78.974578, 151.0], [52.7678265, 0.2986572, 139.0], [39.76880625, -86.15345077251979, 126.0], [13.02383, 77.5529215, 119.0], [12.9413238, 77.7471103, 117.0], [12.9866817, 77.7318033, 113.0], [12.92613325, 77.57848796011083, 107.0], [12.7405819, 77.8201697, 102.0], [12.9243692, 77.6242433, 102.0], [12.9846713, 77.6790908, 101.0], [17.2510682, 80.1651978, 90.0], [13.0227204, 77.595715, 80.0], [12.0194147, 93.0065204, 80.0], [30.1915796, 74.9408769, 76.0], [15.8782951, 74.5084834, 63.0], [18.4900796, 73.8475301, 53.0], [13.2923988, 77.7519261, 48.0], [12.9845687, 77.73766474151809, 44.0], [13.6510577, 77.4305219, 38.0], [12.975608, 77.5553564, 34.0], [12.957998, 77.6037312, 27.0], [38.7801076, -121.5056438, 27.0], [12.9899972, 77.6547867, 22.0], [12.9467026, 77.5300705, 22.0], [12.5442176, 77.4213833, 19.0], [13.007516, 77.695935, 18.0], [12.9055682, 77.5455438, 17.0], [12.9767936, 77.590082, 14.0], [13.0382184, 77.5919, 14.0], [12.9176571, 77.4837568, 9.0], [12.95961755, 77.51126721318181, 9.0], [12.9900235, 77.572073, 8.0], [12.9848519, 77.5400626, 6.0], [13.1006982, 77.5963454, 6.0], [13.0784743, 77.6068938, 3.0], [12.9274413, 77.5155224, 2.0], [13.0329419, 77.5273253, 1.0]],\n",
       "                {&quot;blur&quot;: 15, &quot;maxZoom&quot;: 18, &quot;minOpacity&quot;: 0.5, &quot;radius&quot;: 15, &quot;zoom&quot;: 20}\n",
       "            ).addTo(map_d23bb64029ca0fb74139dde211537792);\n",
       "        \n",
       "&lt;/script&gt;\" style=\"position:absolute;width:100%;height:100%;left:0;top:0;border:none !important;\" allowfullscreen webkitallowfullscreen mozallowfullscreen></iframe></div></div>"
      ],
      "text/plain": [
       "<folium.folium.Map at 0x262001cafc8>"
      ]
     },
     "execution_count": 20,
     "metadata": {},
     "output_type": "execute_result"
    }
   ],
   "source": [
    "basemap"
   ]
  },
  {
   "attachments": {},
   "cell_type": "markdown",
   "metadata": {},
   "source": [
    "1. restaurants tend to concentrate in central Bengaluru \n",
    "2. The clutter of restaurants lowers are we move away from central.\n",
    "3. So,potential restaurant entrepreneurs can refer this and find out good locations for their venture."
   ]
  },
  {
   "cell_type": "markdown",
   "metadata": {},
   "source": [
    "<a id=\"4\"></a>\n",
    "<font color=\"darkslateblue\" size=+2.5><b>4. Data Preparation</b></font>"
   ]
  },
  {
   "cell_type": "markdown",
   "metadata": {},
   "source": [
    "<a id=\"4.1\"></a>\n",
    "<font color=\"dimgrey\" size=+2.0><b>4.1 Clean Data</b></font>"
   ]
  },
  {
   "cell_type": "code",
   "execution_count": 34,
   "metadata": {
    "scrolled": true
   },
   "outputs": [
    {
     "data": {
      "text/plain": [
       "url                    0\n",
       "address                0\n",
       "name                   0\n",
       "online_order           0\n",
       "book_table             0\n",
       "votes                  0\n",
       "phone               1208\n",
       "location              21\n",
       "rest_type            227\n",
       "dish_liked         28078\n",
       "cuisines              45\n",
       "reviews_list           0\n",
       "menu_item              0\n",
       "listed_in(type)        0\n",
       "listed_in(city)        0\n",
       "approx_cost          346\n",
       "rate_num           10052\n",
       "dtype: int64"
      ]
     },
     "execution_count": 34,
     "metadata": {},
     "output_type": "execute_result"
    }
   ],
   "source": [
    "# Check Null value\n",
    "df.isnull().sum()"
   ]
  },
  {
   "cell_type": "code",
   "execution_count": 35,
   "metadata": {},
   "outputs": [],
   "source": [
    "# fill Null value in approx_cost column\n",
    "def fillnaOfCost(city):\n",
    "    temp=df[df['listed_in(city)'] == city]\n",
    "    temp_mean=temp['approx_cost'].mean()\n",
    "    for i in range(len(df)):\n",
    "        if np.isnan(df['approx_cost'].iloc[i]) == True and df['listed_in(city)'].iloc[i] == city:\n",
    "                df['approx_cost'].iloc[i] = temp_mean"
   ]
  },
  {
   "cell_type": "markdown",
   "metadata": {},
   "source": [
    "* To fill the NULL values in approx_cost, We classified data by City name \n",
    "* Then we got the mean for each approx_cost for the cities\n",
    "* Finally we fill the NULL value by this mean"
   ]
  },
  {
   "cell_type": "code",
   "execution_count": 36,
   "metadata": {},
   "outputs": [
    {
     "name": "stderr",
     "output_type": "stream",
     "text": [
      "C:\\Users\\Yousef Khaled\\Anaconda3\\lib\\site-packages\\pandas\\core\\indexing.py:205: SettingWithCopyWarning: \n",
      "A value is trying to be set on a copy of a slice from a DataFrame\n",
      "\n",
      "See the caveats in the documentation: http://pandas.pydata.org/pandas-docs/stable/user_guide/indexing.html#returning-a-view-versus-a-copy\n",
      "  self._setitem_with_indexer(indexer, value)\n"
     ]
    }
   ],
   "source": [
    "nan_cost_df=df[df['approx_cost'].isnull()== True]\n",
    "nan_cities=nan_cost_df['listed_in(city)'].value_counts().keys().tolist()\n",
    "for cities in nan_cities:\n",
    "    fillnaOfCost(cities)"
   ]
  },
  {
   "cell_type": "code",
   "execution_count": 37,
   "metadata": {},
   "outputs": [
    {
     "name": "stderr",
     "output_type": "stream",
     "text": [
      "C:\\Users\\Yousef Khaled\\Anaconda3\\lib\\site-packages\\ipykernel_launcher.py:3: SettingWithCopyWarning: \n",
      "A value is trying to be set on a copy of a slice from a DataFrame\n",
      "\n",
      "See the caveats in the documentation: http://pandas.pydata.org/pandas-docs/stable/user_guide/indexing.html#returning-a-view-versus-a-copy\n",
      "  This is separate from the ipykernel package so we can avoid doing imports until\n",
      "C:\\Users\\Yousef Khaled\\Anaconda3\\lib\\site-packages\\ipykernel_launcher.py:4: SettingWithCopyWarning: \n",
      "A value is trying to be set on a copy of a slice from a DataFrame\n",
      "\n",
      "See the caveats in the documentation: http://pandas.pydata.org/pandas-docs/stable/user_guide/indexing.html#returning-a-view-versus-a-copy\n",
      "  after removing the cwd from sys.path.\n"
     ]
    }
   ],
   "source": [
    "# Capping outliers in cost\n",
    "percentiles = df['approx_cost'].quantile([0.01, 0.99]).values\n",
    "df['approx_cost'][df['approx_cost'] <= percentiles[0]] = percentiles[0]\n",
    "df['approx_cost'][df['approx_cost'] >= percentiles[1]] = percentiles[1]"
   ]
  },
  {
   "cell_type": "markdown",
   "metadata": {},
   "source": [
    "* To deal with outliers in approx_cost, i used capping technique"
   ]
  },
  {
   "cell_type": "markdown",
   "metadata": {},
   "source": [
    "<a id=\"4.2\"></a>\n",
    "<font color=\"dimgrey\" size=+2.0><b>4.2 Feature Selection and Extarction</b></font>"
   ]
  },
  {
   "cell_type": "markdown",
   "metadata": {},
   "source": [
    "* First we will select a good feature from our perspective \n",
    "* Following with extraction of new feature and encoding\n",
    "* Then select best features uing Wrapper Methods"
   ]
  },
  {
   "cell_type": "code",
   "execution_count": 38,
   "metadata": {},
   "outputs": [],
   "source": [
    "features = ['online_order','book_table','location','votes',\n",
    "           'rest_type','cuisines','listed_in(type)','listed_in(city)','approx_cost','rate_num']"
   ]
  },
  {
   "cell_type": "code",
   "execution_count": 39,
   "metadata": {},
   "outputs": [
    {
     "data": {
      "text/plain": [
       "online_order           0\n",
       "book_table             0\n",
       "location              21\n",
       "votes                  0\n",
       "rest_type            227\n",
       "cuisines              45\n",
       "listed_in(type)        0\n",
       "listed_in(city)        0\n",
       "approx_cost            0\n",
       "rate_num           10052\n",
       "dtype: int64"
      ]
     },
     "execution_count": 39,
     "metadata": {},
     "output_type": "execute_result"
    }
   ],
   "source": [
    "Train_df=df.loc[:, features]\n",
    "Train_df.isna().sum()"
   ]
  },
  {
   "cell_type": "code",
   "execution_count": 40,
   "metadata": {},
   "outputs": [],
   "source": [
    "# split data into rated and unrated \n",
    "Train_df['rated']=Train_df['rate_num'].apply(lambda x: 1 if x >= 0 else 0)\n",
    "Train_df_rated = Train_df[Train_df['rated']== 1]\n",
    "Train_df_unrated = Train_df[Train_df['rated']== 0]"
   ]
  },
  {
   "cell_type": "markdown",
   "metadata": {},
   "source": [
    "* Splliting data into rated and unrated depending on rate_num to use data of rated in trainning the model and unrated which has no rate_num to be as independent data using for future testing   \n",
    "* Also I used this to deal with missing values in rated_num"
   ]
  },
  {
   "cell_type": "code",
   "execution_count": null,
   "metadata": {},
   "outputs": [],
   "source": []
  },
  {
   "cell_type": "code",
   "execution_count": 41,
   "metadata": {},
   "outputs": [
    {
     "name": "stderr",
     "output_type": "stream",
     "text": [
      "C:\\Users\\Yousef Khaled\\Anaconda3\\lib\\site-packages\\ipykernel_launcher.py:1: SettingWithCopyWarning: \n",
      "A value is trying to be set on a copy of a slice from a DataFrame.\n",
      "Try using .loc[row_indexer,col_indexer] = value instead\n",
      "\n",
      "See the caveats in the documentation: http://pandas.pydata.org/pandas-docs/stable/user_guide/indexing.html#returning-a-view-versus-a-copy\n",
      "  \"\"\"Entry point for launching an IPython kernel.\n",
      "C:\\Users\\Yousef Khaled\\Anaconda3\\lib\\site-packages\\ipykernel_launcher.py:2: SettingWithCopyWarning: \n",
      "A value is trying to be set on a copy of a slice from a DataFrame.\n",
      "Try using .loc[row_indexer,col_indexer] = value instead\n",
      "\n",
      "See the caveats in the documentation: http://pandas.pydata.org/pandas-docs/stable/user_guide/indexing.html#returning-a-view-versus-a-copy\n",
      "  \n"
     ]
    }
   ],
   "source": [
    "# creating new Features\n",
    "Train_df_rated['rest_type_count']=Train_df_rated['rest_type'].astype(str).apply(lambda x: len(x.split(',')))\n",
    "Train_df_rated['cuisines_count']=Train_df_rated['cuisines'].astype(str).apply(lambda x: len(x.split(',')))"
   ]
  },
  {
   "cell_type": "markdown",
   "metadata": {},
   "source": [
    "* Extracting new feature from resturant type and cuisines offered by counting each one of them"
   ]
  },
  {
   "cell_type": "code",
   "execution_count": 42,
   "metadata": {},
   "outputs": [
    {
     "name": "stderr",
     "output_type": "stream",
     "text": [
      "C:\\Users\\Yousef Khaled\\Anaconda3\\lib\\site-packages\\pandas\\core\\frame.py:4102: SettingWithCopyWarning: \n",
      "A value is trying to be set on a copy of a slice from a DataFrame\n",
      "\n",
      "See the caveats in the documentation: http://pandas.pydata.org/pandas-docs/stable/user_guide/indexing.html#returning-a-view-versus-a-copy\n",
      "  errors=errors,\n"
     ]
    }
   ],
   "source": [
    "# Dropping data\n",
    "Train_df_rated.drop('cuisines', axis=1, inplace=True)"
   ]
  },
  {
   "cell_type": "code",
   "execution_count": 43,
   "metadata": {},
   "outputs": [
    {
     "data": {
      "text/html": [
       "<div>\n",
       "<style scoped>\n",
       "    .dataframe tbody tr th:only-of-type {\n",
       "        vertical-align: middle;\n",
       "    }\n",
       "\n",
       "    .dataframe tbody tr th {\n",
       "        vertical-align: top;\n",
       "    }\n",
       "\n",
       "    .dataframe thead th {\n",
       "        text-align: right;\n",
       "    }\n",
       "</style>\n",
       "<table border=\"1\" class=\"dataframe\">\n",
       "  <thead>\n",
       "    <tr style=\"text-align: right;\">\n",
       "      <th></th>\n",
       "      <th>online_order</th>\n",
       "      <th>book_table</th>\n",
       "      <th>location</th>\n",
       "      <th>votes</th>\n",
       "      <th>rest_type</th>\n",
       "      <th>listed_in(type)</th>\n",
       "      <th>listed_in(city)</th>\n",
       "      <th>approx_cost</th>\n",
       "      <th>rate_num</th>\n",
       "      <th>rated</th>\n",
       "      <th>rest_type_count</th>\n",
       "      <th>cuisines_count</th>\n",
       "    </tr>\n",
       "  </thead>\n",
       "  <tbody>\n",
       "    <tr>\n",
       "      <td>0</td>\n",
       "      <td>Yes</td>\n",
       "      <td>Yes</td>\n",
       "      <td>Banashankari</td>\n",
       "      <td>775</td>\n",
       "      <td>Casual Dining</td>\n",
       "      <td>Buffet</td>\n",
       "      <td>Banashankari</td>\n",
       "      <td>800.0</td>\n",
       "      <td>4.1</td>\n",
       "      <td>1</td>\n",
       "      <td>1</td>\n",
       "      <td>3</td>\n",
       "    </tr>\n",
       "    <tr>\n",
       "      <td>1</td>\n",
       "      <td>Yes</td>\n",
       "      <td>No</td>\n",
       "      <td>Banashankari</td>\n",
       "      <td>787</td>\n",
       "      <td>Casual Dining</td>\n",
       "      <td>Buffet</td>\n",
       "      <td>Banashankari</td>\n",
       "      <td>800.0</td>\n",
       "      <td>4.1</td>\n",
       "      <td>1</td>\n",
       "      <td>1</td>\n",
       "      <td>3</td>\n",
       "    </tr>\n",
       "    <tr>\n",
       "      <td>2</td>\n",
       "      <td>Yes</td>\n",
       "      <td>No</td>\n",
       "      <td>Banashankari</td>\n",
       "      <td>918</td>\n",
       "      <td>Cafe, Casual Dining</td>\n",
       "      <td>Buffet</td>\n",
       "      <td>Banashankari</td>\n",
       "      <td>800.0</td>\n",
       "      <td>3.8</td>\n",
       "      <td>1</td>\n",
       "      <td>2</td>\n",
       "      <td>3</td>\n",
       "    </tr>\n",
       "    <tr>\n",
       "      <td>3</td>\n",
       "      <td>No</td>\n",
       "      <td>No</td>\n",
       "      <td>Banashankari</td>\n",
       "      <td>88</td>\n",
       "      <td>Quick Bites</td>\n",
       "      <td>Buffet</td>\n",
       "      <td>Banashankari</td>\n",
       "      <td>300.0</td>\n",
       "      <td>3.7</td>\n",
       "      <td>1</td>\n",
       "      <td>1</td>\n",
       "      <td>2</td>\n",
       "    </tr>\n",
       "    <tr>\n",
       "      <td>4</td>\n",
       "      <td>No</td>\n",
       "      <td>No</td>\n",
       "      <td>Basavanagudi</td>\n",
       "      <td>166</td>\n",
       "      <td>Casual Dining</td>\n",
       "      <td>Buffet</td>\n",
       "      <td>Banashankari</td>\n",
       "      <td>600.0</td>\n",
       "      <td>3.8</td>\n",
       "      <td>1</td>\n",
       "      <td>1</td>\n",
       "      <td>2</td>\n",
       "    </tr>\n",
       "  </tbody>\n",
       "</table>\n",
       "</div>"
      ],
      "text/plain": [
       "  online_order book_table      location  votes            rest_type  \\\n",
       "0          Yes        Yes  Banashankari    775        Casual Dining   \n",
       "1          Yes         No  Banashankari    787        Casual Dining   \n",
       "2          Yes         No  Banashankari    918  Cafe, Casual Dining   \n",
       "3           No         No  Banashankari     88          Quick Bites   \n",
       "4           No         No  Basavanagudi    166        Casual Dining   \n",
       "\n",
       "  listed_in(type) listed_in(city)  approx_cost  rate_num  rated  \\\n",
       "0          Buffet    Banashankari        800.0       4.1      1   \n",
       "1          Buffet    Banashankari        800.0       4.1      1   \n",
       "2          Buffet    Banashankari        800.0       3.8      1   \n",
       "3          Buffet    Banashankari        300.0       3.7      1   \n",
       "4          Buffet    Banashankari        600.0       3.8      1   \n",
       "\n",
       "   rest_type_count  cuisines_count  \n",
       "0                1               3  \n",
       "1                1               3  \n",
       "2                2               3  \n",
       "3                1               2  \n",
       "4                1               2  "
      ]
     },
     "execution_count": 43,
     "metadata": {},
     "output_type": "execute_result"
    }
   ],
   "source": [
    "Train_df_rated.head()"
   ]
  },
  {
   "cell_type": "code",
   "execution_count": 44,
   "metadata": {},
   "outputs": [],
   "source": [
    "def ReduceGranuality(currcol,newcol):\n",
    "    Temp_count = list(df[currcol].value_counts().index)[:10]\n",
    "    Train_df_rated[newcol] = Train_df_rated[currcol].apply(lambda x: x if x in Temp_count else 'Other')"
   ]
  },
  {
   "cell_type": "code",
   "execution_count": 45,
   "metadata": {
    "scrolled": true
   },
   "outputs": [
    {
     "name": "stderr",
     "output_type": "stream",
     "text": [
      "C:\\Users\\Yousef Khaled\\Anaconda3\\lib\\site-packages\\ipykernel_launcher.py:3: SettingWithCopyWarning: \n",
      "A value is trying to be set on a copy of a slice from a DataFrame.\n",
      "Try using .loc[row_indexer,col_indexer] = value instead\n",
      "\n",
      "See the caveats in the documentation: http://pandas.pydata.org/pandas-docs/stable/user_guide/indexing.html#returning-a-view-versus-a-copy\n",
      "  This is separate from the ipykernel package so we can avoid doing imports until\n"
     ]
    }
   ],
   "source": [
    "# creating new Features\n",
    "ReduceGranuality('location','location_features')\n",
    "ReduceGranuality('listed_in(city)','cities_features')\n",
    "ReduceGranuality('rest_type','rest_type_features')"
   ]
  },
  {
   "cell_type": "markdown",
   "metadata": {},
   "source": [
    "* AS there is many numbers of location, cities and rest_type so, I choosed to select the top 10 repeated from them and classify the remaining to 'Other'"
   ]
  },
  {
   "cell_type": "code",
   "execution_count": 46,
   "metadata": {},
   "outputs": [],
   "source": [
    "# Dropping data\n",
    "Train_df_rated.drop('rest_type', axis=1, inplace=True)"
   ]
  },
  {
   "cell_type": "code",
   "execution_count": 47,
   "metadata": {
    "scrolled": false
   },
   "outputs": [
    {
     "data": {
      "text/plain": [
       "online_order          0\n",
       "book_table            0\n",
       "location              0\n",
       "votes                 0\n",
       "listed_in(type)       0\n",
       "listed_in(city)       0\n",
       "approx_cost           0\n",
       "rate_num              0\n",
       "rated                 0\n",
       "rest_type_count       0\n",
       "cuisines_count        0\n",
       "location_features     0\n",
       "cities_features       0\n",
       "rest_type_features    0\n",
       "dtype: int64"
      ]
     },
     "execution_count": 47,
     "metadata": {},
     "output_type": "execute_result"
    }
   ],
   "source": [
    "Train_df_rated.isnull().sum()"
   ]
  },
  {
   "cell_type": "markdown",
   "metadata": {},
   "source": [
    "* Now We have data cleaned from missing values and outlier"
   ]
  },
  {
   "cell_type": "markdown",
   "metadata": {},
   "source": [
    "<a id=\"4.2.1\"></a>\n",
    "<font color=\"dimgrey\" size=+2.0><b>4.2.1  Label Enconding</b></font>"
   ]
  },
  {
   "cell_type": "code",
   "execution_count": 48,
   "metadata": {},
   "outputs": [],
   "source": [
    "# Splitting features by data type\n",
    "cat_features= [col for col, dtype in Train_df_rated.dtypes.items() if dtype == 'object']\n",
    "num_features = [col for col, dtype in Train_df_rated.dtypes.items() if dtype != 'object']\n",
    "Train_df_rated_cat=Train_df_rated[cat_features]\n",
    "for col in cat_features:\n",
    "    col_encoded = pd.get_dummies(Train_df_rated_cat[col], prefix=col)\n",
    "    Train_df_rated_cat = Train_df_rated_cat.merge(col_encoded, left_index=True, right_index=True)\n",
    "    Train_df_rated_cat.drop(col, axis=1, inplace=True)\n"
   ]
  },
  {
   "cell_type": "markdown",
   "metadata": {},
   "source": [
    "* Splitting data by data type into object and non object\n",
    "* Then transfrom Object data using dummy variable technique \n"
   ]
  },
  {
   "cell_type": "code",
   "execution_count": 49,
   "metadata": {},
   "outputs": [],
   "source": [
    "Train_df=Train_df_rated.loc[:, num_features]\n",
    "Train_df=Train_df.merge(Train_df_rated_cat, left_index=True, right_index=True)"
   ]
  },
  {
   "cell_type": "markdown",
   "metadata": {},
   "source": [
    " * Here we merge non object with object data type after tranformation"
   ]
  },
  {
   "cell_type": "code",
   "execution_count": 50,
   "metadata": {},
   "outputs": [
    {
     "data": {
      "text/plain": [
       "(41665, 172)"
      ]
     },
     "execution_count": 50,
     "metadata": {},
     "output_type": "execute_result"
    }
   ],
   "source": [
    "Train_df.shape"
   ]
  },
  {
   "cell_type": "code",
   "execution_count": 51,
   "metadata": {},
   "outputs": [],
   "source": [
    "Train_df['target'] = Train_df['rate_num'].apply(lambda x: 1 if x >= 3.75 else 0)"
   ]
  },
  {
   "cell_type": "markdown",
   "metadata": {},
   "source": [
    "* Creat new column called target and give value 1 to any rate greater than or equal to 3.75 and 0 value to rate less than 3.75 "
   ]
  },
  {
   "cell_type": "code",
   "execution_count": 52,
   "metadata": {},
   "outputs": [],
   "source": [
    "# Dropping data\n",
    "Train_df_rated.drop('rate_num', axis=1, inplace=True)"
   ]
  },
  {
   "cell_type": "code",
   "execution_count": 53,
   "metadata": {
    "scrolled": true
   },
   "outputs": [],
   "source": [
    "# splitting data into X ,y\n",
    "X=Train_df.drop('target', axis=1)\n",
    "y=Train_df['target'] # tagret data"
   ]
  },
  {
   "cell_type": "code",
   "execution_count": 54,
   "metadata": {},
   "outputs": [
    {
     "name": "stderr",
     "output_type": "stream",
     "text": [
      "C:\\Users\\Yousef Khaled\\Anaconda3\\lib\\site-packages\\numpy\\core\\fromnumeric.py:2580: FutureWarning: Method .ptp is deprecated and will be removed in a future version. Use numpy.ptp instead.\n",
      "  return ptp(axis=axis, out=out, **kwargs)\n"
     ]
    },
    {
     "data": {
      "text/plain": [
       "votes                                     1.115880e-30\n",
       "approx_cost                               5.552797e-19\n",
       "rate_num                                  0.000000e+00\n",
       "rated                                     0.000000e+00\n",
       "rest_type_count                           3.581041e-02\n",
       "                                             ...      \n",
       "rest_type_features_Delivery               2.168269e-47\n",
       "rest_type_features_Dessert Parlor         1.060137e-15\n",
       "rest_type_features_Other                  3.215622e-39\n",
       "rest_type_features_Quick Bites           2.564292e-173\n",
       "rest_type_features_Takeaway, Delivery     3.150677e-46\n",
       "Length: 172, dtype: float64"
      ]
     },
     "execution_count": 54,
     "metadata": {},
     "output_type": "execute_result"
    }
   ],
   "source": [
    "# feture selection using Wrapper Method \"Backward Elimination\"\n",
    "import statsmodels.api as sm\n",
    "#Adding constant column of ones, mandatory for sm.OLS model\n",
    "X_1 = sm.add_constant(X)\n",
    "#Fitting sm.OLS model\n",
    "model = sm.OLS(y,X_1).fit()\n",
    "model.pvalues"
   ]
  },
  {
   "cell_type": "code",
   "execution_count": 55,
   "metadata": {},
   "outputs": [
    {
     "name": "stderr",
     "output_type": "stream",
     "text": [
      "C:\\Users\\Yousef Khaled\\Anaconda3\\lib\\site-packages\\numpy\\core\\fromnumeric.py:2580: FutureWarning: Method .ptp is deprecated and will be removed in a future version. Use numpy.ptp instead.\n",
      "  return ptp(axis=axis, out=out, **kwargs)\n",
      "C:\\Users\\Yousef Khaled\\Anaconda3\\lib\\site-packages\\numpy\\core\\fromnumeric.py:2580: FutureWarning: Method .ptp is deprecated and will be removed in a future version. Use numpy.ptp instead.\n",
      "  return ptp(axis=axis, out=out, **kwargs)\n",
      "C:\\Users\\Yousef Khaled\\Anaconda3\\lib\\site-packages\\numpy\\core\\fromnumeric.py:2580: FutureWarning: Method .ptp is deprecated and will be removed in a future version. Use numpy.ptp instead.\n",
      "  return ptp(axis=axis, out=out, **kwargs)\n",
      "C:\\Users\\Yousef Khaled\\Anaconda3\\lib\\site-packages\\numpy\\core\\fromnumeric.py:2580: FutureWarning: Method .ptp is deprecated and will be removed in a future version. Use numpy.ptp instead.\n",
      "  return ptp(axis=axis, out=out, **kwargs)\n",
      "C:\\Users\\Yousef Khaled\\Anaconda3\\lib\\site-packages\\numpy\\core\\fromnumeric.py:2580: FutureWarning: Method .ptp is deprecated and will be removed in a future version. Use numpy.ptp instead.\n",
      "  return ptp(axis=axis, out=out, **kwargs)\n",
      "C:\\Users\\Yousef Khaled\\Anaconda3\\lib\\site-packages\\numpy\\core\\fromnumeric.py:2580: FutureWarning: Method .ptp is deprecated and will be removed in a future version. Use numpy.ptp instead.\n",
      "  return ptp(axis=axis, out=out, **kwargs)\n",
      "C:\\Users\\Yousef Khaled\\Anaconda3\\lib\\site-packages\\numpy\\core\\fromnumeric.py:2580: FutureWarning: Method .ptp is deprecated and will be removed in a future version. Use numpy.ptp instead.\n",
      "  return ptp(axis=axis, out=out, **kwargs)\n",
      "C:\\Users\\Yousef Khaled\\Anaconda3\\lib\\site-packages\\numpy\\core\\fromnumeric.py:2580: FutureWarning: Method .ptp is deprecated and will be removed in a future version. Use numpy.ptp instead.\n",
      "  return ptp(axis=axis, out=out, **kwargs)\n",
      "C:\\Users\\Yousef Khaled\\Anaconda3\\lib\\site-packages\\numpy\\core\\fromnumeric.py:2580: FutureWarning: Method .ptp is deprecated and will be removed in a future version. Use numpy.ptp instead.\n",
      "  return ptp(axis=axis, out=out, **kwargs)\n",
      "C:\\Users\\Yousef Khaled\\Anaconda3\\lib\\site-packages\\numpy\\core\\fromnumeric.py:2580: FutureWarning: Method .ptp is deprecated and will be removed in a future version. Use numpy.ptp instead.\n",
      "  return ptp(axis=axis, out=out, **kwargs)\n",
      "C:\\Users\\Yousef Khaled\\Anaconda3\\lib\\site-packages\\numpy\\core\\fromnumeric.py:2580: FutureWarning: Method .ptp is deprecated and will be removed in a future version. Use numpy.ptp instead.\n",
      "  return ptp(axis=axis, out=out, **kwargs)\n",
      "C:\\Users\\Yousef Khaled\\Anaconda3\\lib\\site-packages\\numpy\\core\\fromnumeric.py:2580: FutureWarning: Method .ptp is deprecated and will be removed in a future version. Use numpy.ptp instead.\n",
      "  return ptp(axis=axis, out=out, **kwargs)\n",
      "C:\\Users\\Yousef Khaled\\Anaconda3\\lib\\site-packages\\numpy\\core\\fromnumeric.py:2580: FutureWarning: Method .ptp is deprecated and will be removed in a future version. Use numpy.ptp instead.\n",
      "  return ptp(axis=axis, out=out, **kwargs)\n",
      "C:\\Users\\Yousef Khaled\\Anaconda3\\lib\\site-packages\\numpy\\core\\fromnumeric.py:2580: FutureWarning: Method .ptp is deprecated and will be removed in a future version. Use numpy.ptp instead.\n",
      "  return ptp(axis=axis, out=out, **kwargs)\n",
      "C:\\Users\\Yousef Khaled\\Anaconda3\\lib\\site-packages\\numpy\\core\\fromnumeric.py:2580: FutureWarning: Method .ptp is deprecated and will be removed in a future version. Use numpy.ptp instead.\n",
      "  return ptp(axis=axis, out=out, **kwargs)\n",
      "C:\\Users\\Yousef Khaled\\Anaconda3\\lib\\site-packages\\numpy\\core\\fromnumeric.py:2580: FutureWarning: Method .ptp is deprecated and will be removed in a future version. Use numpy.ptp instead.\n",
      "  return ptp(axis=axis, out=out, **kwargs)\n",
      "C:\\Users\\Yousef Khaled\\Anaconda3\\lib\\site-packages\\numpy\\core\\fromnumeric.py:2580: FutureWarning: Method .ptp is deprecated and will be removed in a future version. Use numpy.ptp instead.\n",
      "  return ptp(axis=axis, out=out, **kwargs)\n",
      "C:\\Users\\Yousef Khaled\\Anaconda3\\lib\\site-packages\\numpy\\core\\fromnumeric.py:2580: FutureWarning: Method .ptp is deprecated and will be removed in a future version. Use numpy.ptp instead.\n",
      "  return ptp(axis=axis, out=out, **kwargs)\n",
      "C:\\Users\\Yousef Khaled\\Anaconda3\\lib\\site-packages\\numpy\\core\\fromnumeric.py:2580: FutureWarning: Method .ptp is deprecated and will be removed in a future version. Use numpy.ptp instead.\n",
      "  return ptp(axis=axis, out=out, **kwargs)\n",
      "C:\\Users\\Yousef Khaled\\Anaconda3\\lib\\site-packages\\numpy\\core\\fromnumeric.py:2580: FutureWarning: Method .ptp is deprecated and will be removed in a future version. Use numpy.ptp instead.\n",
      "  return ptp(axis=axis, out=out, **kwargs)\n",
      "C:\\Users\\Yousef Khaled\\Anaconda3\\lib\\site-packages\\numpy\\core\\fromnumeric.py:2580: FutureWarning: Method .ptp is deprecated and will be removed in a future version. Use numpy.ptp instead.\n",
      "  return ptp(axis=axis, out=out, **kwargs)\n",
      "C:\\Users\\Yousef Khaled\\Anaconda3\\lib\\site-packages\\numpy\\core\\fromnumeric.py:2580: FutureWarning: Method .ptp is deprecated and will be removed in a future version. Use numpy.ptp instead.\n",
      "  return ptp(axis=axis, out=out, **kwargs)\n",
      "C:\\Users\\Yousef Khaled\\Anaconda3\\lib\\site-packages\\numpy\\core\\fromnumeric.py:2580: FutureWarning: Method .ptp is deprecated and will be removed in a future version. Use numpy.ptp instead.\n",
      "  return ptp(axis=axis, out=out, **kwargs)\n",
      "C:\\Users\\Yousef Khaled\\Anaconda3\\lib\\site-packages\\numpy\\core\\fromnumeric.py:2580: FutureWarning: Method .ptp is deprecated and will be removed in a future version. Use numpy.ptp instead.\n",
      "  return ptp(axis=axis, out=out, **kwargs)\n",
      "C:\\Users\\Yousef Khaled\\Anaconda3\\lib\\site-packages\\numpy\\core\\fromnumeric.py:2580: FutureWarning: Method .ptp is deprecated and will be removed in a future version. Use numpy.ptp instead.\n",
      "  return ptp(axis=axis, out=out, **kwargs)\n",
      "C:\\Users\\Yousef Khaled\\Anaconda3\\lib\\site-packages\\numpy\\core\\fromnumeric.py:2580: FutureWarning: Method .ptp is deprecated and will be removed in a future version. Use numpy.ptp instead.\n",
      "  return ptp(axis=axis, out=out, **kwargs)\n",
      "C:\\Users\\Yousef Khaled\\Anaconda3\\lib\\site-packages\\numpy\\core\\fromnumeric.py:2580: FutureWarning: Method .ptp is deprecated and will be removed in a future version. Use numpy.ptp instead.\n",
      "  return ptp(axis=axis, out=out, **kwargs)\n",
      "C:\\Users\\Yousef Khaled\\Anaconda3\\lib\\site-packages\\numpy\\core\\fromnumeric.py:2580: FutureWarning: Method .ptp is deprecated and will be removed in a future version. Use numpy.ptp instead.\n",
      "  return ptp(axis=axis, out=out, **kwargs)\n",
      "C:\\Users\\Yousef Khaled\\Anaconda3\\lib\\site-packages\\numpy\\core\\fromnumeric.py:2580: FutureWarning: Method .ptp is deprecated and will be removed in a future version. Use numpy.ptp instead.\n",
      "  return ptp(axis=axis, out=out, **kwargs)\n",
      "C:\\Users\\Yousef Khaled\\Anaconda3\\lib\\site-packages\\numpy\\core\\fromnumeric.py:2580: FutureWarning: Method .ptp is deprecated and will be removed in a future version. Use numpy.ptp instead.\n",
      "  return ptp(axis=axis, out=out, **kwargs)\n",
      "C:\\Users\\Yousef Khaled\\Anaconda3\\lib\\site-packages\\numpy\\core\\fromnumeric.py:2580: FutureWarning: Method .ptp is deprecated and will be removed in a future version. Use numpy.ptp instead.\n",
      "  return ptp(axis=axis, out=out, **kwargs)\n",
      "C:\\Users\\Yousef Khaled\\Anaconda3\\lib\\site-packages\\numpy\\core\\fromnumeric.py:2580: FutureWarning: Method .ptp is deprecated and will be removed in a future version. Use numpy.ptp instead.\n",
      "  return ptp(axis=axis, out=out, **kwargs)\n",
      "C:\\Users\\Yousef Khaled\\Anaconda3\\lib\\site-packages\\numpy\\core\\fromnumeric.py:2580: FutureWarning: Method .ptp is deprecated and will be removed in a future version. Use numpy.ptp instead.\n",
      "  return ptp(axis=axis, out=out, **kwargs)\n",
      "C:\\Users\\Yousef Khaled\\Anaconda3\\lib\\site-packages\\numpy\\core\\fromnumeric.py:2580: FutureWarning: Method .ptp is deprecated and will be removed in a future version. Use numpy.ptp instead.\n",
      "  return ptp(axis=axis, out=out, **kwargs)\n",
      "C:\\Users\\Yousef Khaled\\Anaconda3\\lib\\site-packages\\numpy\\core\\fromnumeric.py:2580: FutureWarning: Method .ptp is deprecated and will be removed in a future version. Use numpy.ptp instead.\n",
      "  return ptp(axis=axis, out=out, **kwargs)\n",
      "C:\\Users\\Yousef Khaled\\Anaconda3\\lib\\site-packages\\numpy\\core\\fromnumeric.py:2580: FutureWarning: Method .ptp is deprecated and will be removed in a future version. Use numpy.ptp instead.\n",
      "  return ptp(axis=axis, out=out, **kwargs)\n"
     ]
    },
    {
     "name": "stderr",
     "output_type": "stream",
     "text": [
      "C:\\Users\\Yousef Khaled\\Anaconda3\\lib\\site-packages\\numpy\\core\\fromnumeric.py:2580: FutureWarning: Method .ptp is deprecated and will be removed in a future version. Use numpy.ptp instead.\n",
      "  return ptp(axis=axis, out=out, **kwargs)\n",
      "C:\\Users\\Yousef Khaled\\Anaconda3\\lib\\site-packages\\numpy\\core\\fromnumeric.py:2580: FutureWarning: Method .ptp is deprecated and will be removed in a future version. Use numpy.ptp instead.\n",
      "  return ptp(axis=axis, out=out, **kwargs)\n",
      "C:\\Users\\Yousef Khaled\\Anaconda3\\lib\\site-packages\\numpy\\core\\fromnumeric.py:2580: FutureWarning: Method .ptp is deprecated and will be removed in a future version. Use numpy.ptp instead.\n",
      "  return ptp(axis=axis, out=out, **kwargs)\n",
      "C:\\Users\\Yousef Khaled\\Anaconda3\\lib\\site-packages\\numpy\\core\\fromnumeric.py:2580: FutureWarning: Method .ptp is deprecated and will be removed in a future version. Use numpy.ptp instead.\n",
      "  return ptp(axis=axis, out=out, **kwargs)\n",
      "C:\\Users\\Yousef Khaled\\Anaconda3\\lib\\site-packages\\numpy\\core\\fromnumeric.py:2580: FutureWarning: Method .ptp is deprecated and will be removed in a future version. Use numpy.ptp instead.\n",
      "  return ptp(axis=axis, out=out, **kwargs)\n",
      "C:\\Users\\Yousef Khaled\\Anaconda3\\lib\\site-packages\\numpy\\core\\fromnumeric.py:2580: FutureWarning: Method .ptp is deprecated and will be removed in a future version. Use numpy.ptp instead.\n",
      "  return ptp(axis=axis, out=out, **kwargs)\n",
      "C:\\Users\\Yousef Khaled\\Anaconda3\\lib\\site-packages\\numpy\\core\\fromnumeric.py:2580: FutureWarning: Method .ptp is deprecated and will be removed in a future version. Use numpy.ptp instead.\n",
      "  return ptp(axis=axis, out=out, **kwargs)\n",
      "C:\\Users\\Yousef Khaled\\Anaconda3\\lib\\site-packages\\numpy\\core\\fromnumeric.py:2580: FutureWarning: Method .ptp is deprecated and will be removed in a future version. Use numpy.ptp instead.\n",
      "  return ptp(axis=axis, out=out, **kwargs)\n",
      "C:\\Users\\Yousef Khaled\\Anaconda3\\lib\\site-packages\\numpy\\core\\fromnumeric.py:2580: FutureWarning: Method .ptp is deprecated and will be removed in a future version. Use numpy.ptp instead.\n",
      "  return ptp(axis=axis, out=out, **kwargs)\n",
      "C:\\Users\\Yousef Khaled\\Anaconda3\\lib\\site-packages\\numpy\\core\\fromnumeric.py:2580: FutureWarning: Method .ptp is deprecated and will be removed in a future version. Use numpy.ptp instead.\n",
      "  return ptp(axis=axis, out=out, **kwargs)\n",
      "C:\\Users\\Yousef Khaled\\Anaconda3\\lib\\site-packages\\numpy\\core\\fromnumeric.py:2580: FutureWarning: Method .ptp is deprecated and will be removed in a future version. Use numpy.ptp instead.\n",
      "  return ptp(axis=axis, out=out, **kwargs)\n",
      "C:\\Users\\Yousef Khaled\\Anaconda3\\lib\\site-packages\\numpy\\core\\fromnumeric.py:2580: FutureWarning: Method .ptp is deprecated and will be removed in a future version. Use numpy.ptp instead.\n",
      "  return ptp(axis=axis, out=out, **kwargs)\n",
      "C:\\Users\\Yousef Khaled\\Anaconda3\\lib\\site-packages\\numpy\\core\\fromnumeric.py:2580: FutureWarning: Method .ptp is deprecated and will be removed in a future version. Use numpy.ptp instead.\n",
      "  return ptp(axis=axis, out=out, **kwargs)\n",
      "C:\\Users\\Yousef Khaled\\Anaconda3\\lib\\site-packages\\numpy\\core\\fromnumeric.py:2580: FutureWarning: Method .ptp is deprecated and will be removed in a future version. Use numpy.ptp instead.\n",
      "  return ptp(axis=axis, out=out, **kwargs)\n",
      "C:\\Users\\Yousef Khaled\\Anaconda3\\lib\\site-packages\\numpy\\core\\fromnumeric.py:2580: FutureWarning: Method .ptp is deprecated and will be removed in a future version. Use numpy.ptp instead.\n",
      "  return ptp(axis=axis, out=out, **kwargs)\n",
      "C:\\Users\\Yousef Khaled\\Anaconda3\\lib\\site-packages\\numpy\\core\\fromnumeric.py:2580: FutureWarning: Method .ptp is deprecated and will be removed in a future version. Use numpy.ptp instead.\n",
      "  return ptp(axis=axis, out=out, **kwargs)\n",
      "C:\\Users\\Yousef Khaled\\Anaconda3\\lib\\site-packages\\numpy\\core\\fromnumeric.py:2580: FutureWarning: Method .ptp is deprecated and will be removed in a future version. Use numpy.ptp instead.\n",
      "  return ptp(axis=axis, out=out, **kwargs)\n",
      "C:\\Users\\Yousef Khaled\\Anaconda3\\lib\\site-packages\\numpy\\core\\fromnumeric.py:2580: FutureWarning: Method .ptp is deprecated and will be removed in a future version. Use numpy.ptp instead.\n",
      "  return ptp(axis=axis, out=out, **kwargs)\n",
      "C:\\Users\\Yousef Khaled\\Anaconda3\\lib\\site-packages\\numpy\\core\\fromnumeric.py:2580: FutureWarning: Method .ptp is deprecated and will be removed in a future version. Use numpy.ptp instead.\n",
      "  return ptp(axis=axis, out=out, **kwargs)\n",
      "C:\\Users\\Yousef Khaled\\Anaconda3\\lib\\site-packages\\numpy\\core\\fromnumeric.py:2580: FutureWarning: Method .ptp is deprecated and will be removed in a future version. Use numpy.ptp instead.\n",
      "  return ptp(axis=axis, out=out, **kwargs)\n",
      "C:\\Users\\Yousef Khaled\\Anaconda3\\lib\\site-packages\\numpy\\core\\fromnumeric.py:2580: FutureWarning: Method .ptp is deprecated and will be removed in a future version. Use numpy.ptp instead.\n",
      "  return ptp(axis=axis, out=out, **kwargs)\n",
      "C:\\Users\\Yousef Khaled\\Anaconda3\\lib\\site-packages\\numpy\\core\\fromnumeric.py:2580: FutureWarning: Method .ptp is deprecated and will be removed in a future version. Use numpy.ptp instead.\n",
      "  return ptp(axis=axis, out=out, **kwargs)\n"
     ]
    },
    {
     "name": "stdout",
     "output_type": "stream",
     "text": [
      "['votes', 'approx_cost', 'rate_num', 'rated', 'cuisines_count', 'online_order_No', 'online_order_Yes', 'book_table_No', 'book_table_Yes', 'location_BTM', 'location_Banashankari', 'location_Bannerghatta Road', 'location_Basavanagudi', 'location_Bellandur', 'location_Bommanahalli', 'location_Brigade Road', 'location_Brookefield', 'location_CV Raman Nagar', 'location_Central Bangalore', 'location_Church Street', 'location_Commercial Street', 'location_Cunningham Road', 'location_Domlur', 'location_Ejipura', 'location_Frazer Town', 'location_HBR Layout', 'location_HSR', 'location_Hennur', 'location_Indiranagar', 'location_Infantry Road', 'location_JP Nagar', 'location_Jalahalli', 'location_Jayanagar', 'location_Jeevan Bhima Nagar', 'location_Kaggadasapura', 'location_Kalyan Nagar', 'location_Kammanahalli', 'location_Kanakapura Road', 'location_Kengeri', 'location_Koramangala', 'location_Koramangala 1st Block', 'location_Koramangala 3rd Block', 'location_Koramangala 4th Block', 'location_Koramangala 5th Block', 'location_Koramangala 6th Block', 'location_Koramangala 7th Block', 'location_Koramangala 8th Block', 'location_Langford Town', 'location_MG Road', 'location_Malleshwaram', 'location_Marathahalli', 'location_Mysore Road', 'location_Old Airport Road', 'location_Old Madras Road', 'location_Race Course Road', 'location_Residency Road', 'location_Richmond Road', 'location_Sadashiv Nagar', 'location_Sanjay Nagar', 'location_Shivajinagar', 'location_St. Marks Road', 'location_Ulsoor', 'location_Uttarahalli', 'location_Varthur Main Road, Whitefield', 'location_Whitefield', 'listed_in(type)_Buffet', 'listed_in(type)_Cafes', 'listed_in(type)_Delivery', 'listed_in(type)_Desserts', 'listed_in(type)_Dine-out', 'listed_in(type)_Drinks & nightlife', 'listed_in(type)_Pubs and bars', 'listed_in(city)_BTM', 'listed_in(city)_Church Street', 'listed_in(city)_Indiranagar', 'listed_in(city)_JP Nagar', 'listed_in(city)_Jayanagar', 'listed_in(city)_Koramangala 4th Block', 'listed_in(city)_Koramangala 5th Block', 'listed_in(city)_Koramangala 6th Block', 'listed_in(city)_Koramangala 7th Block', 'listed_in(city)_MG Road', 'location_features_BTM', 'location_features_Bannerghatta Road', 'location_features_Bellandur', 'location_features_HSR', 'location_features_Indiranagar', 'location_features_JP Nagar', 'location_features_Jayanagar', 'location_features_Koramangala 5th Block', 'location_features_Marathahalli', 'location_features_Other', 'location_features_Whitefield', 'cities_features_BTM', 'cities_features_Church Street', 'cities_features_Indiranagar', 'cities_features_JP Nagar', 'cities_features_Jayanagar', 'cities_features_Koramangala 4th Block', 'cities_features_Koramangala 5th Block', 'cities_features_Koramangala 6th Block', 'cities_features_Koramangala 7th Block', 'cities_features_MG Road', 'cities_features_Other', 'rest_type_features_Bakery', 'rest_type_features_Bar', 'rest_type_features_Beverage Shop', 'rest_type_features_Cafe', 'rest_type_features_Casual Dining', 'rest_type_features_Casual Dining, Bar', 'rest_type_features_Delivery', 'rest_type_features_Dessert Parlor', 'rest_type_features_Other', 'rest_type_features_Quick Bites', 'rest_type_features_Takeaway, Delivery']\n"
     ]
    }
   ],
   "source": [
    "# insert best feature in selected_features_BE to be used by the model\n",
    "cols = list(X.columns)\n",
    "pmax = 1\n",
    "while (len(cols)>0):\n",
    "    p= []\n",
    "    X_1 = X[cols]\n",
    "    X_1 = sm.add_constant(X_1)\n",
    "    model = sm.OLS(y,X_1).fit()\n",
    "    p = pd.Series(model.pvalues.values[:],index = cols)      \n",
    "    pmax = max(p)\n",
    "    feature_with_p_max = p.idxmax()\n",
    "    if(pmax>0.05):\n",
    "        cols.remove(feature_with_p_max)\n",
    "    else:\n",
    "        break\n",
    "selected_features_BE = cols\n",
    "print(selected_features_BE)"
   ]
  },
  {
   "cell_type": "markdown",
   "metadata": {},
   "source": [
    "<a id=\"5\"></a>\n",
    "<font color=\"darkslateblue\" size=+2.5><b>5. Machine Learning model </b></font>"
   ]
  },
  {
   "cell_type": "code",
   "execution_count": 56,
   "metadata": {},
   "outputs": [
    {
     "data": {
      "text/html": [
       "<div>\n",
       "<style scoped>\n",
       "    .dataframe tbody tr th:only-of-type {\n",
       "        vertical-align: middle;\n",
       "    }\n",
       "\n",
       "    .dataframe tbody tr th {\n",
       "        vertical-align: top;\n",
       "    }\n",
       "\n",
       "    .dataframe thead th {\n",
       "        text-align: right;\n",
       "    }\n",
       "</style>\n",
       "<table border=\"1\" class=\"dataframe\">\n",
       "  <thead>\n",
       "    <tr style=\"text-align: right;\">\n",
       "      <th></th>\n",
       "      <th>votes</th>\n",
       "      <th>approx_cost</th>\n",
       "      <th>rate_num</th>\n",
       "      <th>rated</th>\n",
       "      <th>cuisines_count</th>\n",
       "      <th>online_order_No</th>\n",
       "      <th>online_order_Yes</th>\n",
       "      <th>book_table_No</th>\n",
       "      <th>book_table_Yes</th>\n",
       "      <th>location_BTM</th>\n",
       "      <th>...</th>\n",
       "      <th>rest_type_features_Bar</th>\n",
       "      <th>rest_type_features_Beverage Shop</th>\n",
       "      <th>rest_type_features_Cafe</th>\n",
       "      <th>rest_type_features_Casual Dining</th>\n",
       "      <th>rest_type_features_Casual Dining, Bar</th>\n",
       "      <th>rest_type_features_Delivery</th>\n",
       "      <th>rest_type_features_Dessert Parlor</th>\n",
       "      <th>rest_type_features_Other</th>\n",
       "      <th>rest_type_features_Quick Bites</th>\n",
       "      <th>rest_type_features_Takeaway, Delivery</th>\n",
       "    </tr>\n",
       "  </thead>\n",
       "  <tbody>\n",
       "    <tr>\n",
       "      <td>0</td>\n",
       "      <td>775</td>\n",
       "      <td>800.0</td>\n",
       "      <td>4.1</td>\n",
       "      <td>1</td>\n",
       "      <td>3</td>\n",
       "      <td>0</td>\n",
       "      <td>1</td>\n",
       "      <td>0</td>\n",
       "      <td>1</td>\n",
       "      <td>0</td>\n",
       "      <td>...</td>\n",
       "      <td>0</td>\n",
       "      <td>0</td>\n",
       "      <td>0</td>\n",
       "      <td>1</td>\n",
       "      <td>0</td>\n",
       "      <td>0</td>\n",
       "      <td>0</td>\n",
       "      <td>0</td>\n",
       "      <td>0</td>\n",
       "      <td>0</td>\n",
       "    </tr>\n",
       "    <tr>\n",
       "      <td>1</td>\n",
       "      <td>787</td>\n",
       "      <td>800.0</td>\n",
       "      <td>4.1</td>\n",
       "      <td>1</td>\n",
       "      <td>3</td>\n",
       "      <td>0</td>\n",
       "      <td>1</td>\n",
       "      <td>1</td>\n",
       "      <td>0</td>\n",
       "      <td>0</td>\n",
       "      <td>...</td>\n",
       "      <td>0</td>\n",
       "      <td>0</td>\n",
       "      <td>0</td>\n",
       "      <td>1</td>\n",
       "      <td>0</td>\n",
       "      <td>0</td>\n",
       "      <td>0</td>\n",
       "      <td>0</td>\n",
       "      <td>0</td>\n",
       "      <td>0</td>\n",
       "    </tr>\n",
       "    <tr>\n",
       "      <td>2</td>\n",
       "      <td>918</td>\n",
       "      <td>800.0</td>\n",
       "      <td>3.8</td>\n",
       "      <td>1</td>\n",
       "      <td>3</td>\n",
       "      <td>0</td>\n",
       "      <td>1</td>\n",
       "      <td>1</td>\n",
       "      <td>0</td>\n",
       "      <td>0</td>\n",
       "      <td>...</td>\n",
       "      <td>0</td>\n",
       "      <td>0</td>\n",
       "      <td>0</td>\n",
       "      <td>0</td>\n",
       "      <td>0</td>\n",
       "      <td>0</td>\n",
       "      <td>0</td>\n",
       "      <td>1</td>\n",
       "      <td>0</td>\n",
       "      <td>0</td>\n",
       "    </tr>\n",
       "    <tr>\n",
       "      <td>3</td>\n",
       "      <td>88</td>\n",
       "      <td>300.0</td>\n",
       "      <td>3.7</td>\n",
       "      <td>1</td>\n",
       "      <td>2</td>\n",
       "      <td>1</td>\n",
       "      <td>0</td>\n",
       "      <td>1</td>\n",
       "      <td>0</td>\n",
       "      <td>0</td>\n",
       "      <td>...</td>\n",
       "      <td>0</td>\n",
       "      <td>0</td>\n",
       "      <td>0</td>\n",
       "      <td>0</td>\n",
       "      <td>0</td>\n",
       "      <td>0</td>\n",
       "      <td>0</td>\n",
       "      <td>0</td>\n",
       "      <td>1</td>\n",
       "      <td>0</td>\n",
       "    </tr>\n",
       "    <tr>\n",
       "      <td>4</td>\n",
       "      <td>166</td>\n",
       "      <td>600.0</td>\n",
       "      <td>3.8</td>\n",
       "      <td>1</td>\n",
       "      <td>2</td>\n",
       "      <td>1</td>\n",
       "      <td>0</td>\n",
       "      <td>1</td>\n",
       "      <td>0</td>\n",
       "      <td>0</td>\n",
       "      <td>...</td>\n",
       "      <td>0</td>\n",
       "      <td>0</td>\n",
       "      <td>0</td>\n",
       "      <td>1</td>\n",
       "      <td>0</td>\n",
       "      <td>0</td>\n",
       "      <td>0</td>\n",
       "      <td>0</td>\n",
       "      <td>0</td>\n",
       "      <td>0</td>\n",
       "    </tr>\n",
       "    <tr>\n",
       "      <td>...</td>\n",
       "      <td>...</td>\n",
       "      <td>...</td>\n",
       "      <td>...</td>\n",
       "      <td>...</td>\n",
       "      <td>...</td>\n",
       "      <td>...</td>\n",
       "      <td>...</td>\n",
       "      <td>...</td>\n",
       "      <td>...</td>\n",
       "      <td>...</td>\n",
       "      <td>...</td>\n",
       "      <td>...</td>\n",
       "      <td>...</td>\n",
       "      <td>...</td>\n",
       "      <td>...</td>\n",
       "      <td>...</td>\n",
       "      <td>...</td>\n",
       "      <td>...</td>\n",
       "      <td>...</td>\n",
       "      <td>...</td>\n",
       "      <td>...</td>\n",
       "    </tr>\n",
       "    <tr>\n",
       "      <td>51709</td>\n",
       "      <td>34</td>\n",
       "      <td>800.0</td>\n",
       "      <td>3.7</td>\n",
       "      <td>1</td>\n",
       "      <td>2</td>\n",
       "      <td>1</td>\n",
       "      <td>0</td>\n",
       "      <td>1</td>\n",
       "      <td>0</td>\n",
       "      <td>0</td>\n",
       "      <td>...</td>\n",
       "      <td>0</td>\n",
       "      <td>0</td>\n",
       "      <td>0</td>\n",
       "      <td>0</td>\n",
       "      <td>1</td>\n",
       "      <td>0</td>\n",
       "      <td>0</td>\n",
       "      <td>0</td>\n",
       "      <td>0</td>\n",
       "      <td>0</td>\n",
       "    </tr>\n",
       "    <tr>\n",
       "      <td>51711</td>\n",
       "      <td>81</td>\n",
       "      <td>800.0</td>\n",
       "      <td>2.5</td>\n",
       "      <td>1</td>\n",
       "      <td>4</td>\n",
       "      <td>1</td>\n",
       "      <td>0</td>\n",
       "      <td>1</td>\n",
       "      <td>0</td>\n",
       "      <td>0</td>\n",
       "      <td>...</td>\n",
       "      <td>0</td>\n",
       "      <td>0</td>\n",
       "      <td>0</td>\n",
       "      <td>0</td>\n",
       "      <td>1</td>\n",
       "      <td>0</td>\n",
       "      <td>0</td>\n",
       "      <td>0</td>\n",
       "      <td>0</td>\n",
       "      <td>0</td>\n",
       "    </tr>\n",
       "    <tr>\n",
       "      <td>51712</td>\n",
       "      <td>27</td>\n",
       "      <td>1500.0</td>\n",
       "      <td>3.6</td>\n",
       "      <td>1</td>\n",
       "      <td>1</td>\n",
       "      <td>1</td>\n",
       "      <td>0</td>\n",
       "      <td>1</td>\n",
       "      <td>0</td>\n",
       "      <td>0</td>\n",
       "      <td>...</td>\n",
       "      <td>1</td>\n",
       "      <td>0</td>\n",
       "      <td>0</td>\n",
       "      <td>0</td>\n",
       "      <td>0</td>\n",
       "      <td>0</td>\n",
       "      <td>0</td>\n",
       "      <td>0</td>\n",
       "      <td>0</td>\n",
       "      <td>0</td>\n",
       "    </tr>\n",
       "    <tr>\n",
       "      <td>51715</td>\n",
       "      <td>236</td>\n",
       "      <td>2200.0</td>\n",
       "      <td>4.3</td>\n",
       "      <td>1</td>\n",
       "      <td>1</td>\n",
       "      <td>1</td>\n",
       "      <td>0</td>\n",
       "      <td>0</td>\n",
       "      <td>1</td>\n",
       "      <td>0</td>\n",
       "      <td>...</td>\n",
       "      <td>1</td>\n",
       "      <td>0</td>\n",
       "      <td>0</td>\n",
       "      <td>0</td>\n",
       "      <td>0</td>\n",
       "      <td>0</td>\n",
       "      <td>0</td>\n",
       "      <td>0</td>\n",
       "      <td>0</td>\n",
       "      <td>0</td>\n",
       "    </tr>\n",
       "    <tr>\n",
       "      <td>51716</td>\n",
       "      <td>13</td>\n",
       "      <td>1500.0</td>\n",
       "      <td>3.4</td>\n",
       "      <td>1</td>\n",
       "      <td>3</td>\n",
       "      <td>1</td>\n",
       "      <td>0</td>\n",
       "      <td>1</td>\n",
       "      <td>0</td>\n",
       "      <td>0</td>\n",
       "      <td>...</td>\n",
       "      <td>0</td>\n",
       "      <td>0</td>\n",
       "      <td>0</td>\n",
       "      <td>0</td>\n",
       "      <td>0</td>\n",
       "      <td>0</td>\n",
       "      <td>0</td>\n",
       "      <td>1</td>\n",
       "      <td>0</td>\n",
       "      <td>0</td>\n",
       "    </tr>\n",
       "  </tbody>\n",
       "</table>\n",
       "<p>41665 rows × 115 columns</p>\n",
       "</div>"
      ],
      "text/plain": [
       "       votes  approx_cost  rate_num  rated  cuisines_count  online_order_No  \\\n",
       "0        775        800.0       4.1      1               3                0   \n",
       "1        787        800.0       4.1      1               3                0   \n",
       "2        918        800.0       3.8      1               3                0   \n",
       "3         88        300.0       3.7      1               2                1   \n",
       "4        166        600.0       3.8      1               2                1   \n",
       "...      ...          ...       ...    ...             ...              ...   \n",
       "51709     34        800.0       3.7      1               2                1   \n",
       "51711     81        800.0       2.5      1               4                1   \n",
       "51712     27       1500.0       3.6      1               1                1   \n",
       "51715    236       2200.0       4.3      1               1                1   \n",
       "51716     13       1500.0       3.4      1               3                1   \n",
       "\n",
       "       online_order_Yes  book_table_No  book_table_Yes  location_BTM  ...  \\\n",
       "0                     1              0               1             0  ...   \n",
       "1                     1              1               0             0  ...   \n",
       "2                     1              1               0             0  ...   \n",
       "3                     0              1               0             0  ...   \n",
       "4                     0              1               0             0  ...   \n",
       "...                 ...            ...             ...           ...  ...   \n",
       "51709                 0              1               0             0  ...   \n",
       "51711                 0              1               0             0  ...   \n",
       "51712                 0              1               0             0  ...   \n",
       "51715                 0              0               1             0  ...   \n",
       "51716                 0              1               0             0  ...   \n",
       "\n",
       "       rest_type_features_Bar  rest_type_features_Beverage Shop  \\\n",
       "0                           0                                 0   \n",
       "1                           0                                 0   \n",
       "2                           0                                 0   \n",
       "3                           0                                 0   \n",
       "4                           0                                 0   \n",
       "...                       ...                               ...   \n",
       "51709                       0                                 0   \n",
       "51711                       0                                 0   \n",
       "51712                       1                                 0   \n",
       "51715                       1                                 0   \n",
       "51716                       0                                 0   \n",
       "\n",
       "       rest_type_features_Cafe  rest_type_features_Casual Dining  \\\n",
       "0                            0                                 1   \n",
       "1                            0                                 1   \n",
       "2                            0                                 0   \n",
       "3                            0                                 0   \n",
       "4                            0                                 1   \n",
       "...                        ...                               ...   \n",
       "51709                        0                                 0   \n",
       "51711                        0                                 0   \n",
       "51712                        0                                 0   \n",
       "51715                        0                                 0   \n",
       "51716                        0                                 0   \n",
       "\n",
       "       rest_type_features_Casual Dining, Bar  rest_type_features_Delivery  \\\n",
       "0                                          0                            0   \n",
       "1                                          0                            0   \n",
       "2                                          0                            0   \n",
       "3                                          0                            0   \n",
       "4                                          0                            0   \n",
       "...                                      ...                          ...   \n",
       "51709                                      1                            0   \n",
       "51711                                      1                            0   \n",
       "51712                                      0                            0   \n",
       "51715                                      0                            0   \n",
       "51716                                      0                            0   \n",
       "\n",
       "       rest_type_features_Dessert Parlor  rest_type_features_Other  \\\n",
       "0                                      0                         0   \n",
       "1                                      0                         0   \n",
       "2                                      0                         1   \n",
       "3                                      0                         0   \n",
       "4                                      0                         0   \n",
       "...                                  ...                       ...   \n",
       "51709                                  0                         0   \n",
       "51711                                  0                         0   \n",
       "51712                                  0                         0   \n",
       "51715                                  0                         0   \n",
       "51716                                  0                         1   \n",
       "\n",
       "       rest_type_features_Quick Bites  rest_type_features_Takeaway, Delivery  \n",
       "0                                   0                                      0  \n",
       "1                                   0                                      0  \n",
       "2                                   0                                      0  \n",
       "3                                   1                                      0  \n",
       "4                                   0                                      0  \n",
       "...                               ...                                    ...  \n",
       "51709                               0                                      0  \n",
       "51711                               0                                      0  \n",
       "51712                               0                                      0  \n",
       "51715                               0                                      0  \n",
       "51716                               0                                      0  \n",
       "\n",
       "[41665 rows x 115 columns]"
      ]
     },
     "execution_count": 56,
     "metadata": {},
     "output_type": "execute_result"
    }
   ],
   "source": [
    "# select best feature\n",
    "X.loc[:,selected_features_BE]"
   ]
  },
  {
   "cell_type": "code",
   "execution_count": 57,
   "metadata": {},
   "outputs": [],
   "source": [
    "# splitting data into train and test\n",
    "from sklearn.model_selection import train_test_split\n",
    "X_train, X_test, y_train, y_test = train_test_split(X, y, test_size=.2, random_state=42)"
   ]
  },
  {
   "cell_type": "markdown",
   "metadata": {},
   "source": [
    "\n",
    "<a id=\"5.1\"></a>\n",
    "<font color=\"dimgrey\" size=+2.0><b>5.1 Select best machine learning for binary classification </b></font>"
   ]
  },
  {
   "cell_type": "code",
   "execution_count": 58,
   "metadata": {},
   "outputs": [],
   "source": [
    "from sklearn.linear_model import LogisticRegression\n",
    "from sklearn.ensemble import RandomForestClassifier,ExtraTreesClassifier\n",
    "from sklearn.metrics import confusion_matrix,accuracy_score,precision_score, recall_score, f1_score"
   ]
  },
  {
   "cell_type": "code",
   "execution_count": 59,
   "metadata": {},
   "outputs": [
    {
     "data": {
      "text/plain": [
       "RandomForestClassifier(max_depth=2, random_state=0)"
      ]
     },
     "execution_count": 59,
     "metadata": {},
     "output_type": "execute_result"
    }
   ],
   "source": [
    "# Random Forest Classifier\n",
    "clf_RF = RandomForestClassifier(max_depth=2, random_state=0)\n",
    "clf_RF.fit(X_train, y_train)"
   ]
  },
  {
   "cell_type": "code",
   "execution_count": 60,
   "metadata": {},
   "outputs": [],
   "source": [
    "y_pred_rf=clf_RF.predict(X_test)"
   ]
  },
  {
   "cell_type": "code",
   "execution_count": 61,
   "metadata": {},
   "outputs": [
    {
     "name": "stdout",
     "output_type": "stream",
     "text": [
      "Cross validation for RF is :  0.9305892235689427\n"
     ]
    }
   ],
   "source": [
    "#Cross Validation \n",
    "from sklearn.model_selection import cross_val_score\n",
    "clf_RF.fit(X_train, y_train)\n",
    "score = cross_val_score(clf_RF , X , y, cv = 5)\n",
    "print(\"Cross validation for RF is : \", score.mean())"
   ]
  },
  {
   "cell_type": "markdown",
   "metadata": {},
   "source": [
    "* In Cross validation I used cross val score for all data set with k-fold = 5\n",
    "* We get the mean of 5 folds score which is 97 % this an indication that the algorithm perform well "
   ]
  },
  {
   "cell_type": "code",
   "execution_count": 62,
   "metadata": {},
   "outputs": [
    {
     "data": {
      "text/plain": [
       "0.9205568222728909"
      ]
     },
     "execution_count": 62,
     "metadata": {},
     "output_type": "execute_result"
    }
   ],
   "source": [
    "# accuracy score for model evaluation\n",
    "clf_RF_acc_score = accuracy_score(y_test, y_pred_rf)\n",
    "clf_RF_acc_score"
   ]
  },
  {
   "cell_type": "code",
   "execution_count": 63,
   "metadata": {
    "scrolled": true
   },
   "outputs": [
    {
     "data": {
      "image/png": "[encoded data removed]",
      "text/plain": [
       "<Figure size 720x432 with 2 Axes>"
      ]
     },
     "metadata": {
      "needs_background": "light"
     },
     "output_type": "display_data"
    }
   ],
   "source": [
    "#Confusion matrix for model evaluation\n",
    "cm = confusion_matrix(y_test, y_pred_rf)\n",
    "annot_kws = {\"ha\": 'left',\"va\": 'center','size': 9}\n",
    "plt.figure(figsize=(10,6))\n",
    "ax= plt.subplot()\n",
    "sns.heatmap(cm, annot=True, fmt='g',cmap = 'Blues',annot_kws=annot_kws, ax=ax); \n",
    "bottom, top = ax.get_ylim()\n",
    "ax.set_ylim(bottom + 0.5, top - 0.5)\n",
    "# labels, title and ticks\n",
    "ax.set_xlabel('Predicted labels',fontsize=16)\n",
    "ax.set_ylabel('True labels',fontsize=16); \n",
    "ax.set_title('Random forest - Confusion Matrix',fontsize=16); \n",
    "\n"
   ]
  },
  {
   "cell_type": "markdown",
   "metadata": {},
   "source": []
  },
  {
   "cell_type": "code",
   "execution_count": 64,
   "metadata": {},
   "outputs": [
    {
     "name": "stderr",
     "output_type": "stream",
     "text": [
      "C:\\Users\\Yousef Khaled\\Anaconda3\\lib\\site-packages\\sklearn\\linear_model\\_logistic.py:818: ConvergenceWarning: lbfgs failed to converge (status=1):\n",
      "STOP: TOTAL NO. of ITERATIONS REACHED LIMIT.\n",
      "\n",
      "Increase the number of iterations (max_iter) or scale the data as shown in:\n",
      "    https://scikit-learn.org/stable/modules/preprocessing.html\n",
      "Please also refer to the documentation for alternative solver options:\n",
      "    https://scikit-learn.org/stable/modules/linear_model.html#logistic-regression\n",
      "  extra_warning_msg=_LOGISTIC_SOLVER_CONVERGENCE_MSG,\n"
     ]
    }
   ],
   "source": [
    "# logistic Regression\n",
    "logreg = LogisticRegression()\n",
    "logreg.fit(X_train,y_train) \n",
    "y_pred=logreg.predict(X_test)"
   ]
  },
  {
   "cell_type": "code",
   "execution_count": 65,
   "metadata": {},
   "outputs": [
    {
     "name": "stderr",
     "output_type": "stream",
     "text": [
      "C:\\Users\\Yousef Khaled\\Anaconda3\\lib\\site-packages\\sklearn\\linear_model\\_logistic.py:818: ConvergenceWarning: lbfgs failed to converge (status=1):\n",
      "STOP: TOTAL NO. of ITERATIONS REACHED LIMIT.\n",
      "\n",
      "Increase the number of iterations (max_iter) or scale the data as shown in:\n",
      "    https://scikit-learn.org/stable/modules/preprocessing.html\n",
      "Please also refer to the documentation for alternative solver options:\n",
      "    https://scikit-learn.org/stable/modules/linear_model.html#logistic-regression\n",
      "  extra_warning_msg=_LOGISTIC_SOLVER_CONVERGENCE_MSG,\n",
      "C:\\Users\\Yousef Khaled\\Anaconda3\\lib\\site-packages\\sklearn\\linear_model\\_logistic.py:818: ConvergenceWarning: lbfgs failed to converge (status=1):\n",
      "STOP: TOTAL NO. of ITERATIONS REACHED LIMIT.\n",
      "\n",
      "Increase the number of iterations (max_iter) or scale the data as shown in:\n",
      "    https://scikit-learn.org/stable/modules/preprocessing.html\n",
      "Please also refer to the documentation for alternative solver options:\n",
      "    https://scikit-learn.org/stable/modules/linear_model.html#logistic-regression\n",
      "  extra_warning_msg=_LOGISTIC_SOLVER_CONVERGENCE_MSG,\n",
      "C:\\Users\\Yousef Khaled\\Anaconda3\\lib\\site-packages\\sklearn\\linear_model\\_logistic.py:818: ConvergenceWarning: lbfgs failed to converge (status=1):\n",
      "STOP: TOTAL NO. of ITERATIONS REACHED LIMIT.\n",
      "\n",
      "Increase the number of iterations (max_iter) or scale the data as shown in:\n",
      "    https://scikit-learn.org/stable/modules/preprocessing.html\n",
      "Please also refer to the documentation for alternative solver options:\n",
      "    https://scikit-learn.org/stable/modules/linear_model.html#logistic-regression\n",
      "  extra_warning_msg=_LOGISTIC_SOLVER_CONVERGENCE_MSG,\n",
      "C:\\Users\\Yousef Khaled\\Anaconda3\\lib\\site-packages\\sklearn\\linear_model\\_logistic.py:818: ConvergenceWarning: lbfgs failed to converge (status=1):\n",
      "STOP: TOTAL NO. of ITERATIONS REACHED LIMIT.\n",
      "\n",
      "Increase the number of iterations (max_iter) or scale the data as shown in:\n",
      "    https://scikit-learn.org/stable/modules/preprocessing.html\n",
      "Please also refer to the documentation for alternative solver options:\n",
      "    https://scikit-learn.org/stable/modules/linear_model.html#logistic-regression\n",
      "  extra_warning_msg=_LOGISTIC_SOLVER_CONVERGENCE_MSG,\n"
     ]
    },
    {
     "name": "stdout",
     "output_type": "stream",
     "text": [
      "Cross validation for Logistic Regression is :  0.8732509300372016\n"
     ]
    },
    {
     "name": "stderr",
     "output_type": "stream",
     "text": [
      "C:\\Users\\Yousef Khaled\\Anaconda3\\lib\\site-packages\\sklearn\\linear_model\\_logistic.py:818: ConvergenceWarning: lbfgs failed to converge (status=1):\n",
      "STOP: TOTAL NO. of ITERATIONS REACHED LIMIT.\n",
      "\n",
      "Increase the number of iterations (max_iter) or scale the data as shown in:\n",
      "    https://scikit-learn.org/stable/modules/preprocessing.html\n",
      "Please also refer to the documentation for alternative solver options:\n",
      "    https://scikit-learn.org/stable/modules/linear_model.html#logistic-regression\n",
      "  extra_warning_msg=_LOGISTIC_SOLVER_CONVERGENCE_MSG,\n"
     ]
    }
   ],
   "source": [
    "score = cross_val_score(logreg , X , y, cv = 5)\n",
    "print(\"Cross validation for Logistic Regression is : \", score.mean())"
   ]
  },
  {
   "cell_type": "markdown",
   "metadata": {},
   "source": [
    "* In Cross validation I used cross val score for all data set with k-fold = 5\n",
    "* We get the mean of 5 folds score which is 89 % this an indication that Random forest classifier is better than Logistic Regression"
   ]
  },
  {
   "cell_type": "code",
   "execution_count": 66,
   "metadata": {},
   "outputs": [
    {
     "data": {
      "text/plain": [
       "0.8915156606264251"
      ]
     },
     "execution_count": 66,
     "metadata": {},
     "output_type": "execute_result"
    }
   ],
   "source": [
    "# accuracy score for model evaluation\n",
    "logreg_acc_score=accuracy_score(y_test, y_pred)\n",
    "logreg_acc_score"
   ]
  },
  {
   "cell_type": "code",
   "execution_count": 67,
   "metadata": {},
   "outputs": [
    {
     "name": "stdout",
     "output_type": "stream",
     "text": [
      "Confusion matrix is :\n",
      "  [[3904  421]\n",
      " [ 483 3525]]\n"
     ]
    },
    {
     "data": {
      "image/png": "[encoded data removed]",
      "text/plain": [
       "<Figure size 720x432 with 2 Axes>"
      ]
     },
     "metadata": {
      "needs_background": "light"
     },
     "output_type": "display_data"
    }
   ],
   "source": [
    "#Confusion matrix for model evaluation\n",
    "cm = confusion_matrix(y_test, y_pred)\n",
    "print(\"Confusion matrix is :\\n \", cm)\n",
    "annot_kws = {\"ha\": 'left',\"va\": 'center','size': 9}\n",
    "plt.figure(figsize=(10,6))\n",
    "ax= plt.subplot()\n",
    "sns.heatmap(cm, annot=True, fmt='g',cmap = 'Blues',annot_kws=annot_kws, ax=ax); \n",
    "bottom, top = ax.get_ylim()\n",
    "ax.set_ylim(bottom + 0.5, top - 0.5)\n",
    "# labels, title and ticks\n",
    "ax.set_xlabel('Predicted labels',fontsize=16)\n",
    "ax.set_ylabel('True labels',fontsize=16); \n",
    "ax.set_title('Random forest model Confusion Matrix',fontsize=16); "
   ]
  },
  {
   "cell_type": "code",
   "execution_count": 68,
   "metadata": {},
   "outputs": [
    {
     "data": {
      "text/plain": [
       "ExtraTreesClassifier()"
      ]
     },
     "execution_count": 68,
     "metadata": {},
     "output_type": "execute_result"
    }
   ],
   "source": [
    "# Extra Trees Classifier\n",
    "clf_ET=ExtraTreesClassifier()\n",
    "clf_ET.fit(X_train,y_train)\n"
   ]
  },
  {
   "cell_type": "code",
   "execution_count": 69,
   "metadata": {},
   "outputs": [
    {
     "name": "stdout",
     "output_type": "stream",
     "text": [
      "Cross validation ET is :  0.9300372014880596\n"
     ]
    }
   ],
   "source": [
    "cv_ET_train = cross_val_score(clf_ET , X , y, cv = 5)\n",
    "print(\"Cross validation ET is : \", cv_ET_train.mean())\n"
   ]
  },
  {
   "cell_type": "markdown",
   "metadata": {},
   "source": [
    "* In Cross validation I used cross val score for all data set with k-fold = 5\n",
    "* We get the mean of 5 folds score which is 95 % this an indication that the algorithm perform well "
   ]
  },
  {
   "cell_type": "code",
   "execution_count": 70,
   "metadata": {},
   "outputs": [
    {
     "data": {
      "text/plain": [
       "0.9831993279731189"
      ]
     },
     "execution_count": 70,
     "metadata": {},
     "output_type": "execute_result"
    }
   ],
   "source": [
    "y_pred_ET = clf_ET.predict(X_test)\n",
    "et_acc_score=accuracy_score(y_test, y_pred_ET)\n",
    "et_acc_score"
   ]
  },
  {
   "cell_type": "code",
   "execution_count": 71,
   "metadata": {
    "scrolled": false
   },
   "outputs": [
    {
     "name": "stdout",
     "output_type": "stream",
     "text": [
      "Confusion matrix is :\n",
      "  [[4257   68]\n",
      " [  72 3936]]\n"
     ]
    },
    {
     "data": {
      "text/plain": [
       "(array([0.5, 1.5]), <a list of 2 Text yticklabel objects>)"
      ]
     },
     "execution_count": 71,
     "metadata": {},
     "output_type": "execute_result"
    },
    {
     "data": {
      "image/png": "[encoded data removed]",
      "text/plain": [
       "<Figure size 720x432 with 2 Axes>"
      ]
     },
     "metadata": {
      "needs_background": "light"
     },
     "output_type": "display_data"
    }
   ],
   "source": [
    "y_pred_ET=clf_ET.predict(X_test)\n",
    "cm = confusion_matrix(y_test,y_pred_ET)\n",
    "print(\"Confusion matrix is :\\n \", cm)\n",
    "\n",
    "annot_kws = {\"ha\": 'left',\"va\": 'center','size': 9}\n",
    "plt.figure(figsize=(10,6))\n",
    "ax= plt.subplot()\n",
    "sns.heatmap(cm, annot=True, fmt='g',cmap = 'Blues',annot_kws=annot_kws, ax=ax); \n",
    "bottom, top = ax.get_ylim()\n",
    "ax.set_ylim(bottom + 0.5, top - 0.5)\n",
    "# labels, title and ticks\n",
    "ax.set_xlabel('Predicted labels',fontsize=16)\n",
    "ax.set_ylabel('True labels',fontsize=16); \n",
    "ax.set_title('ET Confusion Matrix',fontsize=16); \n",
    "plt.xticks(fontsize=10)\n",
    "plt.yticks(fontsize=10,rotation=0)"
   ]
  },
  {
   "cell_type": "code",
   "execution_count": 72,
   "metadata": {
    "scrolled": false
   },
   "outputs": [
    {
     "data": {
      "text/html": [
       "<div>\n",
       "<style scoped>\n",
       "    .dataframe tbody tr th:only-of-type {\n",
       "        vertical-align: middle;\n",
       "    }\n",
       "\n",
       "    .dataframe tbody tr th {\n",
       "        vertical-align: top;\n",
       "    }\n",
       "\n",
       "    .dataframe thead th {\n",
       "        text-align: right;\n",
       "    }\n",
       "</style>\n",
       "<table border=\"1\" class=\"dataframe\">\n",
       "  <thead>\n",
       "    <tr style=\"text-align: right;\">\n",
       "      <th></th>\n",
       "      <th>Models</th>\n",
       "      <th>Accuracy score</th>\n",
       "    </tr>\n",
       "  </thead>\n",
       "  <tbody>\n",
       "    <tr>\n",
       "      <td>2</td>\n",
       "      <td>Extra Trees Classifier</td>\n",
       "      <td>0.983199</td>\n",
       "    </tr>\n",
       "    <tr>\n",
       "      <td>0</td>\n",
       "      <td>Random Forest Classifier</td>\n",
       "      <td>0.920557</td>\n",
       "    </tr>\n",
       "    <tr>\n",
       "      <td>1</td>\n",
       "      <td>Logistic Regression</td>\n",
       "      <td>0.891516</td>\n",
       "    </tr>\n",
       "  </tbody>\n",
       "</table>\n",
       "</div>"
      ],
      "text/plain": [
       "                     Models  Accuracy score\n",
       "2    Extra Trees Classifier        0.983199\n",
       "0  Random Forest Classifier        0.920557\n",
       "1       Logistic Regression        0.891516"
      ]
     },
     "execution_count": 72,
     "metadata": {},
     "output_type": "execute_result"
    }
   ],
   "source": [
    "# comparsion between models\n",
    "comp={'Models':['Random Forest Classifier','Logistic Regression','Extra Trees Classifier'],\n",
    "     'Accuracy score':[clf_RF_acc_score,logreg_acc_score,et_acc_score]}\n",
    "df_comp=pd.DataFrame(comp)\n",
    "df_comp.sort_values(by='Accuracy score',ascending=False)"
   ]
  },
  {
   "cell_type": "markdown",
   "metadata": {},
   "source": [
    "* According to Comparision between model depending on accuracy score, We found that Extra Trees is best model so let's tune its parameters"
   ]
  },
  {
   "cell_type": "markdown",
   "metadata": {},
   "source": [
    "<a id=\"5.2\"></a>\n",
    "<font color=\"dimgrey\" size=+2.0><b>5.2 Parameter tuning </b></font>\n",
    "* parameter tuning is an essential part of controlling the behavior of a machine learning model. If we don’t correctly tune our parameters, our estimated model parameters produce suboptimal results, as they don’t minimize the loss function. This means our model makes more errors. In practice, key indicators like the accuracy or the confusion matrix will be worse."
   ]
  },
  {
   "cell_type": "code",
   "execution_count": 73,
   "metadata": {},
   "outputs": [],
   "source": [
    "from sklearn.model_selection import GridSearchCV\n"
   ]
  },
  {
   "cell_type": "code",
   "execution_count": 74,
   "metadata": {},
   "outputs": [],
   "source": [
    "params = [{'n_estimators': [100, 120, 140, 160, 180, 200],\n",
    "         'criterion': ['gini', 'entropy','log_loss'],\n",
    "         'max_depth':  [3, 5, 10, 20, 50]}]"
   ]
  },
  {
   "cell_type": "code",
   "execution_count": 75,
   "metadata": {},
   "outputs": [
    {
     "name": "stderr",
     "output_type": "stream",
     "text": [
      "C:\\Users\\Yousef Khaled\\Anaconda3\\lib\\site-packages\\sklearn\\model_selection\\_validation.py:372: FitFailedWarning: \n",
      "150 fits failed out of a total of 450.\n",
      "The score on these train-test partitions for these parameters will be set to nan.\n",
      "If these failures are not expected, you can try to debug them by setting error_score='raise'.\n",
      "\n",
      "Below are more details about the failures:\n",
      "--------------------------------------------------------------------------------\n",
      "150 fits failed with the following error:\n",
      "Traceback (most recent call last):\n",
      "  File \"C:\\Users\\Yousef Khaled\\Anaconda3\\lib\\site-packages\\sklearn\\model_selection\\_validation.py\", line 680, in _fit_and_score\n",
      "    estimator.fit(X_train, y_train, **fit_params)\n",
      "  File \"C:\\Users\\Yousef Khaled\\Anaconda3\\lib\\site-packages\\sklearn\\ensemble\\_forest.py\", line 467, in fit\n",
      "    for i, t in enumerate(trees)\n",
      "  File \"C:\\Users\\Yousef Khaled\\Anaconda3\\lib\\site-packages\\joblib\\parallel.py\", line 921, in __call__\n",
      "    if self.dispatch_one_batch(iterator):\n",
      "  File \"C:\\Users\\Yousef Khaled\\Anaconda3\\lib\\site-packages\\joblib\\parallel.py\", line 759, in dispatch_one_batch\n",
      "    self._dispatch(tasks)\n",
      "  File \"C:\\Users\\Yousef Khaled\\Anaconda3\\lib\\site-packages\\joblib\\parallel.py\", line 716, in _dispatch\n",
      "    job = self._backend.apply_async(batch, callback=cb)\n",
      "  File \"C:\\Users\\Yousef Khaled\\Anaconda3\\lib\\site-packages\\joblib\\_parallel_backends.py\", line 182, in apply_async\n",
      "    result = ImmediateResult(func)\n",
      "  File \"C:\\Users\\Yousef Khaled\\Anaconda3\\lib\\site-packages\\joblib\\_parallel_backends.py\", line 549, in __init__\n",
      "    self.results = batch()\n",
      "  File \"C:\\Users\\Yousef Khaled\\Anaconda3\\lib\\site-packages\\joblib\\parallel.py\", line 225, in __call__\n",
      "    for func, args, kwargs in self.items]\n",
      "  File \"C:\\Users\\Yousef Khaled\\Anaconda3\\lib\\site-packages\\joblib\\parallel.py\", line 225, in <listcomp>\n",
      "    for func, args, kwargs in self.items]\n",
      "  File \"C:\\Users\\Yousef Khaled\\Anaconda3\\lib\\site-packages\\sklearn\\utils\\fixes.py\", line 216, in __call__\n",
      "    return self.function(*args, **kwargs)\n",
      "  File \"C:\\Users\\Yousef Khaled\\Anaconda3\\lib\\site-packages\\sklearn\\ensemble\\_forest.py\", line 187, in _parallel_build_trees\n",
      "    tree.fit(X, y, sample_weight=sample_weight, check_input=False)\n",
      "  File \"C:\\Users\\Yousef Khaled\\Anaconda3\\lib\\site-packages\\sklearn\\tree\\_classes.py\", line 942, in fit\n",
      "    X_idx_sorted=X_idx_sorted,\n",
      "  File \"C:\\Users\\Yousef Khaled\\Anaconda3\\lib\\site-packages\\sklearn\\tree\\_classes.py\", line 352, in fit\n",
      "    criterion = CRITERIA_CLF[self.criterion](\n",
      "KeyError: 'log_loss'\n",
      "\n",
      "  warnings.warn(some_fits_failed_message, FitFailedWarning)\n",
      "C:\\Users\\Yousef Khaled\\Anaconda3\\lib\\site-packages\\sklearn\\model_selection\\_search.py:972: UserWarning: One or more of the test scores are non-finite: [0.74018974 0.76064822 0.76088967 0.73961893 0.74915951 0.76505883\n",
      " 0.79224063 0.79854177 0.7955412  0.7868103  0.77031073 0.77709052\n",
      " 0.83466407 0.83553336 0.83358284 0.8398831  0.83910344 0.84219258\n",
      " 0.93963743 0.93960756 0.93813776 0.93225708 0.93684742 0.93624741\n",
      " 0.97800901 0.98076911 0.98076921 0.97950914 0.97869907 0.98046917\n",
      " 0.76076971 0.75573007 0.74265009 0.74156956 0.75791942 0.75948011\n",
      " 0.79689222 0.79593146 0.79404219 0.78402172 0.7839005  0.77727029\n",
      " 0.84420373 0.83934314 0.85173347 0.84912457 0.84072389 0.84315345\n",
      " 0.93351703 0.93597761 0.93705738 0.93024703 0.93369738 0.9337872\n",
      " 0.98238929 0.98151918 0.98133916 0.98220935 0.98187924 0.98265928\n",
      "        nan        nan        nan        nan        nan        nan\n",
      "        nan        nan        nan        nan        nan        nan\n",
      "        nan        nan        nan        nan        nan        nan\n",
      "        nan        nan        nan        nan        nan        nan\n",
      "        nan        nan        nan        nan        nan        nan]\n",
      "  category=UserWarning,\n"
     ]
    },
    {
     "data": {
      "text/plain": [
       "GridSearchCV(cv=5, estimator=ExtraTreesClassifier(),\n",
       "             param_grid=[{'criterion': ['gini', 'entropy', 'log_loss'],\n",
       "                          'max_depth': [3, 5, 10, 20, 50],\n",
       "                          'n_estimators': [100, 120, 140, 160, 180, 200]}],\n",
       "             scoring='accuracy')"
      ]
     },
     "execution_count": 75,
     "metadata": {},
     "output_type": "execute_result"
    }
   ],
   "source": [
    "# Grid Search SV for Tune Extra Trees parameters\n",
    "gs_et = GridSearchCV(clf_ET,\n",
    "                      param_grid=params,\n",
    "                      scoring='accuracy',\n",
    "                      cv=5)\n",
    "gs_et.fit(X_train, y_train)\n"
   ]
  },
  {
   "cell_type": "code",
   "execution_count": 76,
   "metadata": {},
   "outputs": [
    {
     "data": {
      "text/plain": [
       "{'criterion': 'entropy', 'max_depth': 50, 'n_estimators': 200}"
      ]
     },
     "execution_count": 76,
     "metadata": {},
     "output_type": "execute_result"
    }
   ],
   "source": [
    "gs_et.best_params_"
   ]
  },
  {
   "cell_type": "markdown",
   "metadata": {},
   "source": [
    "* Using Grid search technique to Tune parameter of EXtra tree by choosing the best parameter between n_estimators,criterion and max depth \n",
    "* After tunning we found the best parameter is entropy for criterion, 50 max depth and 140 n estimators"
   ]
  },
  {
   "cell_type": "code",
   "execution_count": 77,
   "metadata": {},
   "outputs": [
    {
     "data": {
      "text/plain": [
       "1.0"
      ]
     },
     "execution_count": 77,
     "metadata": {},
     "output_type": "execute_result"
    }
   ],
   "source": [
    "\n",
    "gs_et.score(X_train, y_train)"
   ]
  },
  {
   "cell_type": "markdown",
   "metadata": {},
   "source": [
    "* combination of parameters produced an accuracy score of 1"
   ]
  },
  {
   "cell_type": "code",
   "execution_count": 78,
   "metadata": {},
   "outputs": [
    {
     "data": {
      "text/plain": [
       "ExtraTreesClassifier(criterion='entropy', max_depth=50, n_estimators=140)"
      ]
     },
     "execution_count": 78,
     "metadata": {},
     "output_type": "execute_result"
    }
   ],
   "source": [
    "# Extra tree Classifier with best parameters\n",
    "clf_ET=ExtraTreesClassifier(criterion='entropy',max_depth=50,n_estimators=140)\n",
    "clf_ET.fit(X_train,y_train)"
   ]
  },
  {
   "cell_type": "code",
   "execution_count": 79,
   "metadata": {},
   "outputs": [
    {
     "name": "stdout",
     "output_type": "stream",
     "text": [
      "Cross validation for ET  is :  0.9322692907716309\n"
     ]
    }
   ],
   "source": [
    "cv_ET_train = cross_val_score(clf_ET , X , y, cv = 5)\n",
    "print(\"Cross validation for ET  is : \", cv_ET_train.mean())"
   ]
  },
  {
   "cell_type": "markdown",
   "metadata": {},
   "source": [
    "<a id=\"5.3\"></a>\n",
    "<font color=\"dimgrey\" size=+2.0><b>5.3 Evalution and mertcis </b></font>"
   ]
  },
  {
   "cell_type": "code",
   "execution_count": 80,
   "metadata": {},
   "outputs": [
    {
     "data": {
      "image/png": "[encoded data removed]",
      "text/plain": [
       "<Figure size 720x432 with 2 Axes>"
      ]
     },
     "metadata": {
      "needs_background": "light"
     },
     "output_type": "display_data"
    }
   ],
   "source": [
    "y_pred_ET=clf_ET.predict(X_test)\n",
    "annot_kws = {\"ha\": 'left',\"va\": 'center','size': 9}\n",
    "plt.figure(figsize=(10,6))\n",
    "ax= plt.subplot()\n",
    "sns.heatmap(cm, annot=True, fmt='g',cmap = 'Blues',annot_kws=annot_kws, ax=ax); \n",
    "bottom, top = ax.get_ylim()\n",
    "ax.set_ylim(bottom + 0.5, top - 0.5)\n",
    "# labels, title and ticks\n",
    "ax.set_xlabel('Predicted labels',fontsize=16)\n",
    "ax.set_ylabel('True labels',fontsize=16); \n",
    "ax.set_title('ET Confusion Matrix',fontsize=16); \n",
    "plt.xticks(fontsize=10)\n",
    "plt.yticks(fontsize=10,rotation=0)\n",
    "plt.show();"
   ]
  },
  {
   "cell_type": "markdown",
   "metadata": {},
   "source": [
    "* confusion matrix is a performance measurement for machine learning classification problem\n",
    "* Here our confusion matrix show a good result about machine learning model\n",
    "* confusion matrix is very important as it used for measuring Recall, Precision, Accuracy"
   ]
  },
  {
   "cell_type": "code",
   "execution_count": 82,
   "metadata": {
    "scrolled": true
   },
   "outputs": [
    {
     "name": "stdout",
     "output_type": "stream",
     "text": [
      "Precision: 0.988\n",
      "Recall: 0.982\n",
      "Accuracy: 0.986\n",
      "F1 Score: 0.985\n"
     ]
    }
   ],
   "source": [
    "print('Precision: %.3f' % precision_score(y_test, y_pred_ET))\n",
    "print('Recall: %.3f' % recall_score(y_test, y_pred_ET))\n",
    "print('Accuracy: %.3f' % accuracy_score(y_test, y_pred_ET))\n",
    "print('F1 Score: %.3f' % f1_score(y_test, y_pred_ET))"
   ]
  },
  {
   "cell_type": "markdown",
   "metadata": {},
   "source": [
    "* Here are precision,recall, F1-Score and Accuracy and the above are the value for each one which indiacate that Moldel perform well\n",
    "* To avoid misleading accuracy, I decided to use Roc Curve to improve the accuracy of model"
   ]
  },
  {
   "cell_type": "code",
   "execution_count": 85,
   "metadata": {},
   "outputs": [],
   "source": [
    "from sklearn.metrics import  roc_curve,roc_auc_score"
   ]
  },
  {
   "cell_type": "code",
   "execution_count": 86,
   "metadata": {},
   "outputs": [],
   "source": [
    "false_positive_rate1, true_positive_rate1, threshold1 = roc_curve(y_test, y_pred_ET)"
   ]
  },
  {
   "cell_type": "code",
   "execution_count": 87,
   "metadata": {},
   "outputs": [
    {
     "name": "stdout",
     "output_type": "stream",
     "text": [
      "roc_auc_score for ExtraTree:  0.9854596875612935\n"
     ]
    }
   ],
   "source": [
    "print('roc_auc_score for ExtraTree: ', roc_auc_score(y_test, y_pred_ET))"
   ]
  },
  {
   "cell_type": "code",
   "execution_count": 88,
   "metadata": {
    "scrolled": true
   },
   "outputs": [
    {
     "data": {
      "image/png": "[encoded data removed]",
      "text/plain": [
       "<Figure size 432x288 with 1 Axes>"
      ]
     },
     "metadata": {
      "needs_background": "light"
     },
     "output_type": "display_data"
    }
   ],
   "source": [
    "plt.title('Receiver Operating Characteristic - ExtraTree')\n",
    "plt.plot(false_positive_rate1, true_positive_rate1)\n",
    "plt.plot([0, 1], ls=\"--\")\n",
    "plt.plot([0, 0], [1, 0] , c=\".7\"), plt.plot([1, 1] , c=\".7\")\n",
    "plt.ylabel('True Positive Rate')\n",
    "plt.xlabel('False Positive Rate')\n",
    "plt.show()"
   ]
  },
  {
   "cell_type": "markdown",
   "metadata": {},
   "source": [
    "* After all this evaluation we can now say the Extra trees calssifier model'paratmeter are tunned well and has a good accuracy score"
   ]
  },
  {
   "cell_type": "markdown",
   "metadata": {},
   "source": [
    "<a id=\"6\"></a>\n",
    "<font color=\"darkslateblue\" size=+2.5><b>6. Summary </b></font>"
   ]
  },
  {
   "attachments": {},
   "cell_type": "markdown",
   "metadata": {},
   "source": [
    "#### My conclusion for zomato dataset:\n",
    "* approximate cost and votes are the most Two variables has effect on restaurant successful\n",
    "* Restaurants with Book Table service are more important than Online service and have high rated\n",
    "* The top restaurant type is Quick bites\n",
    "* the most common cuisine is north Indian\n",
    "* The most popular restaurants\n",
    "   - Onesta has max vote\n",
    "   - Le Cirque Signature - The Leela Palace is The most expensive\n",
    "   - Cafe Coffee Day is The most common one\n",
    "* Book table service has an effect on both rate and cost\n",
    "* BTM is the best location to find a restaurant\n",
    "* Koramangala 5th Block is the best location to find most voted restaurants\n",
    "* Sankey Roads the best location Where the most expensive restaurants exists\n",
    "* BTW is the most common location to found a restaurants\n",
    "* Quick Bites is the preferred type in Bengaluru\n",
    "* North Indian cuisine type is the most common one in Bengaluru\n",
    "* **For New Restaurants in order to have a good Compete with other restaurants**\n",
    "    - Caring about rate and cost should be top priority\n",
    "    - Your restaurant should have a book table and might have online ordering as this increase your rate among the others\n",
    "    - You should start in any location of the top 10 common location then after your rating is raised up you could    establish a new branch in the top 10 most voted location \n",
    "    - Choose type of your restaurant from top ten restaurant and top ten cuisine type in Bengaluru "
   ]
  },
  {
   "cell_type": "code",
   "execution_count": null,
   "metadata": {},
   "outputs": [],
   "source": []
  }
 ],
 "metadata": {
  "kernelspec": {
   "display_name": "Python 3",
   "language": "python",
   "name": "python3"
  },
  "language_info": {
   "codemirror_mode": {
    "name": "ipython",
    "version": 3
   },
   "file_extension": ".py",
   "mimetype": "text/x-python",
   "name": "python",
   "nbconvert_exporter": "python",
   "pygments_lexer": "ipython3",
   "version": "3.7.4"
  }
 },
 "nbformat": 4,
 "nbformat_minor": 2
}
